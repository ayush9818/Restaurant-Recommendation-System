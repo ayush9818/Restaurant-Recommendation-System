{
  "nbformat": 4,
  "nbformat_minor": 0,
  "metadata": {
    "colab": {
      "provenance": [],
      "gpuType": "T4"
    },
    "kernelspec": {
      "name": "python3",
      "display_name": "Python 3"
    },
    "language_info": {
      "name": "python"
    },
    "accelerator": "GPU",
    "widgets": {
      "application/vnd.jupyter.widget-state+json": {
        "38d2da74ca7a4fee97bc91795da910ff": {
          "model_module": "@jupyter-widgets/controls",
          "model_name": "HBoxModel",
          "model_module_version": "1.5.0",
          "state": {
            "_dom_classes": [],
            "_model_module": "@jupyter-widgets/controls",
            "_model_module_version": "1.5.0",
            "_model_name": "HBoxModel",
            "_view_count": null,
            "_view_module": "@jupyter-widgets/controls",
            "_view_module_version": "1.5.0",
            "_view_name": "HBoxView",
            "box_style": "",
            "children": [
              "IPY_MODEL_c64344efb82a49c3beaf31ba022f26e3",
              "IPY_MODEL_e4fcca16f6ac49c0a248d9ea13565368",
              "IPY_MODEL_59402f2bdc41412d95f447474fdbda77"
            ],
            "layout": "IPY_MODEL_a7e5bee197984ba0861ebc2e0b590f09"
          }
        },
        "c64344efb82a49c3beaf31ba022f26e3": {
          "model_module": "@jupyter-widgets/controls",
          "model_name": "HTMLModel",
          "model_module_version": "1.5.0",
          "state": {
            "_dom_classes": [],
            "_model_module": "@jupyter-widgets/controls",
            "_model_module_version": "1.5.0",
            "_model_name": "HTMLModel",
            "_view_count": null,
            "_view_module": "@jupyter-widgets/controls",
            "_view_module_version": "1.5.0",
            "_view_name": "HTMLView",
            "description": "",
            "description_tooltip": null,
            "layout": "IPY_MODEL_e3e0b543649041809db79cc3cdf4b8bc",
            "placeholder": "​",
            "style": "IPY_MODEL_5ba30eb472984a30b394e66a177a66ac",
            "value": "Batches: 100%"
          }
        },
        "e4fcca16f6ac49c0a248d9ea13565368": {
          "model_module": "@jupyter-widgets/controls",
          "model_name": "FloatProgressModel",
          "model_module_version": "1.5.0",
          "state": {
            "_dom_classes": [],
            "_model_module": "@jupyter-widgets/controls",
            "_model_module_version": "1.5.0",
            "_model_name": "FloatProgressModel",
            "_view_count": null,
            "_view_module": "@jupyter-widgets/controls",
            "_view_module_version": "1.5.0",
            "_view_name": "ProgressView",
            "bar_style": "success",
            "description": "",
            "description_tooltip": null,
            "layout": "IPY_MODEL_c27757393054442bbc7dd9032e64a418",
            "max": 10513,
            "min": 0,
            "orientation": "horizontal",
            "style": "IPY_MODEL_fc3b60012e7548f989e0ba8d25c70b47",
            "value": 10513
          }
        },
        "59402f2bdc41412d95f447474fdbda77": {
          "model_module": "@jupyter-widgets/controls",
          "model_name": "HTMLModel",
          "model_module_version": "1.5.0",
          "state": {
            "_dom_classes": [],
            "_model_module": "@jupyter-widgets/controls",
            "_model_module_version": "1.5.0",
            "_model_name": "HTMLModel",
            "_view_count": null,
            "_view_module": "@jupyter-widgets/controls",
            "_view_module_version": "1.5.0",
            "_view_name": "HTMLView",
            "description": "",
            "description_tooltip": null,
            "layout": "IPY_MODEL_1bbb68ee53574bfaac6e3bcf5112a114",
            "placeholder": "​",
            "style": "IPY_MODEL_dd80e073c4c34d6cb079769927f4ed67",
            "value": " 10513/10513 [19:18&lt;00:00, 49.38it/s]"
          }
        },
        "a7e5bee197984ba0861ebc2e0b590f09": {
          "model_module": "@jupyter-widgets/base",
          "model_name": "LayoutModel",
          "model_module_version": "1.2.0",
          "state": {
            "_model_module": "@jupyter-widgets/base",
            "_model_module_version": "1.2.0",
            "_model_name": "LayoutModel",
            "_view_count": null,
            "_view_module": "@jupyter-widgets/base",
            "_view_module_version": "1.2.0",
            "_view_name": "LayoutView",
            "align_content": null,
            "align_items": null,
            "align_self": null,
            "border": null,
            "bottom": null,
            "display": null,
            "flex": null,
            "flex_flow": null,
            "grid_area": null,
            "grid_auto_columns": null,
            "grid_auto_flow": null,
            "grid_auto_rows": null,
            "grid_column": null,
            "grid_gap": null,
            "grid_row": null,
            "grid_template_areas": null,
            "grid_template_columns": null,
            "grid_template_rows": null,
            "height": null,
            "justify_content": null,
            "justify_items": null,
            "left": null,
            "margin": null,
            "max_height": null,
            "max_width": null,
            "min_height": null,
            "min_width": null,
            "object_fit": null,
            "object_position": null,
            "order": null,
            "overflow": null,
            "overflow_x": null,
            "overflow_y": null,
            "padding": null,
            "right": null,
            "top": null,
            "visibility": null,
            "width": null
          }
        },
        "e3e0b543649041809db79cc3cdf4b8bc": {
          "model_module": "@jupyter-widgets/base",
          "model_name": "LayoutModel",
          "model_module_version": "1.2.0",
          "state": {
            "_model_module": "@jupyter-widgets/base",
            "_model_module_version": "1.2.0",
            "_model_name": "LayoutModel",
            "_view_count": null,
            "_view_module": "@jupyter-widgets/base",
            "_view_module_version": "1.2.0",
            "_view_name": "LayoutView",
            "align_content": null,
            "align_items": null,
            "align_self": null,
            "border": null,
            "bottom": null,
            "display": null,
            "flex": null,
            "flex_flow": null,
            "grid_area": null,
            "grid_auto_columns": null,
            "grid_auto_flow": null,
            "grid_auto_rows": null,
            "grid_column": null,
            "grid_gap": null,
            "grid_row": null,
            "grid_template_areas": null,
            "grid_template_columns": null,
            "grid_template_rows": null,
            "height": null,
            "justify_content": null,
            "justify_items": null,
            "left": null,
            "margin": null,
            "max_height": null,
            "max_width": null,
            "min_height": null,
            "min_width": null,
            "object_fit": null,
            "object_position": null,
            "order": null,
            "overflow": null,
            "overflow_x": null,
            "overflow_y": null,
            "padding": null,
            "right": null,
            "top": null,
            "visibility": null,
            "width": null
          }
        },
        "5ba30eb472984a30b394e66a177a66ac": {
          "model_module": "@jupyter-widgets/controls",
          "model_name": "DescriptionStyleModel",
          "model_module_version": "1.5.0",
          "state": {
            "_model_module": "@jupyter-widgets/controls",
            "_model_module_version": "1.5.0",
            "_model_name": "DescriptionStyleModel",
            "_view_count": null,
            "_view_module": "@jupyter-widgets/base",
            "_view_module_version": "1.2.0",
            "_view_name": "StyleView",
            "description_width": ""
          }
        },
        "c27757393054442bbc7dd9032e64a418": {
          "model_module": "@jupyter-widgets/base",
          "model_name": "LayoutModel",
          "model_module_version": "1.2.0",
          "state": {
            "_model_module": "@jupyter-widgets/base",
            "_model_module_version": "1.2.0",
            "_model_name": "LayoutModel",
            "_view_count": null,
            "_view_module": "@jupyter-widgets/base",
            "_view_module_version": "1.2.0",
            "_view_name": "LayoutView",
            "align_content": null,
            "align_items": null,
            "align_self": null,
            "border": null,
            "bottom": null,
            "display": null,
            "flex": null,
            "flex_flow": null,
            "grid_area": null,
            "grid_auto_columns": null,
            "grid_auto_flow": null,
            "grid_auto_rows": null,
            "grid_column": null,
            "grid_gap": null,
            "grid_row": null,
            "grid_template_areas": null,
            "grid_template_columns": null,
            "grid_template_rows": null,
            "height": null,
            "justify_content": null,
            "justify_items": null,
            "left": null,
            "margin": null,
            "max_height": null,
            "max_width": null,
            "min_height": null,
            "min_width": null,
            "object_fit": null,
            "object_position": null,
            "order": null,
            "overflow": null,
            "overflow_x": null,
            "overflow_y": null,
            "padding": null,
            "right": null,
            "top": null,
            "visibility": null,
            "width": null
          }
        },
        "fc3b60012e7548f989e0ba8d25c70b47": {
          "model_module": "@jupyter-widgets/controls",
          "model_name": "ProgressStyleModel",
          "model_module_version": "1.5.0",
          "state": {
            "_model_module": "@jupyter-widgets/controls",
            "_model_module_version": "1.5.0",
            "_model_name": "ProgressStyleModel",
            "_view_count": null,
            "_view_module": "@jupyter-widgets/base",
            "_view_module_version": "1.2.0",
            "_view_name": "StyleView",
            "bar_color": null,
            "description_width": ""
          }
        },
        "1bbb68ee53574bfaac6e3bcf5112a114": {
          "model_module": "@jupyter-widgets/base",
          "model_name": "LayoutModel",
          "model_module_version": "1.2.0",
          "state": {
            "_model_module": "@jupyter-widgets/base",
            "_model_module_version": "1.2.0",
            "_model_name": "LayoutModel",
            "_view_count": null,
            "_view_module": "@jupyter-widgets/base",
            "_view_module_version": "1.2.0",
            "_view_name": "LayoutView",
            "align_content": null,
            "align_items": null,
            "align_self": null,
            "border": null,
            "bottom": null,
            "display": null,
            "flex": null,
            "flex_flow": null,
            "grid_area": null,
            "grid_auto_columns": null,
            "grid_auto_flow": null,
            "grid_auto_rows": null,
            "grid_column": null,
            "grid_gap": null,
            "grid_row": null,
            "grid_template_areas": null,
            "grid_template_columns": null,
            "grid_template_rows": null,
            "height": null,
            "justify_content": null,
            "justify_items": null,
            "left": null,
            "margin": null,
            "max_height": null,
            "max_width": null,
            "min_height": null,
            "min_width": null,
            "object_fit": null,
            "object_position": null,
            "order": null,
            "overflow": null,
            "overflow_x": null,
            "overflow_y": null,
            "padding": null,
            "right": null,
            "top": null,
            "visibility": null,
            "width": null
          }
        },
        "dd80e073c4c34d6cb079769927f4ed67": {
          "model_module": "@jupyter-widgets/controls",
          "model_name": "DescriptionStyleModel",
          "model_module_version": "1.5.0",
          "state": {
            "_model_module": "@jupyter-widgets/controls",
            "_model_module_version": "1.5.0",
            "_model_name": "DescriptionStyleModel",
            "_view_count": null,
            "_view_module": "@jupyter-widgets/base",
            "_view_module_version": "1.2.0",
            "_view_name": "StyleView",
            "description_width": ""
          }
        }
      }
    }
  },
  "cells": [
    {
      "cell_type": "code",
      "execution_count": 1,
      "metadata": {
        "colab": {
          "base_uri": "https://localhost:8080/"
        },
        "id": "j53DRN2cDQJn",
        "outputId": "12d89453-96bd-41fe-8271-600329280267"
      },
      "outputs": [
        {
          "output_type": "stream",
          "name": "stdout",
          "text": [
            "Mounted at /content/gdrive\n"
          ]
        }
      ],
      "source": [
        "from google.colab import drive\n",
        "drive.mount('/content/gdrive')"
      ]
    },
    {
      "cell_type": "code",
      "source": [
        "! pip install faiss-cpu\n",
        "# ! pip install transformers\n",
        "! pip install sentence-transformers"
      ],
      "metadata": {
        "colab": {
          "base_uri": "https://localhost:8080/"
        },
        "id": "9xBC0KL6Jm_B",
        "outputId": "82686b60-2898-4aac-f02e-a2ebec25c434"
      },
      "execution_count": 5,
      "outputs": [
        {
          "output_type": "stream",
          "name": "stdout",
          "text": [
            "Collecting faiss-cpu\n",
            "  Downloading faiss_cpu-1.7.4-cp310-cp310-manylinux_2_17_x86_64.manylinux2014_x86_64.whl (17.6 MB)\n",
            "\u001b[2K     \u001b[90m━━━━━━━━━━━━━━━━━━━━━━━━━━━━━━━━━━━━━━━━\u001b[0m \u001b[32m17.6/17.6 MB\u001b[0m \u001b[31m54.2 MB/s\u001b[0m eta \u001b[36m0:00:00\u001b[0m\n",
            "\u001b[?25hInstalling collected packages: faiss-cpu\n",
            "Successfully installed faiss-cpu-1.7.4\n",
            "Collecting sentence-transformers\n",
            "  Downloading sentence_transformers-2.3.1-py3-none-any.whl (132 kB)\n",
            "\u001b[2K     \u001b[90m━━━━━━━━━━━━━━━━━━━━━━━━━━━━━━━━━━━━━━━━\u001b[0m \u001b[32m132.8/132.8 kB\u001b[0m \u001b[31m5.3 MB/s\u001b[0m eta \u001b[36m0:00:00\u001b[0m\n",
            "\u001b[?25hRequirement already satisfied: transformers<5.0.0,>=4.32.0 in /usr/local/lib/python3.10/dist-packages (from sentence-transformers) (4.35.2)\n",
            "Requirement already satisfied: tqdm in /usr/local/lib/python3.10/dist-packages (from sentence-transformers) (4.66.2)\n",
            "Requirement already satisfied: torch>=1.11.0 in /usr/local/lib/python3.10/dist-packages (from sentence-transformers) (2.1.0+cu121)\n",
            "Requirement already satisfied: numpy in /usr/local/lib/python3.10/dist-packages (from sentence-transformers) (1.25.2)\n",
            "Requirement already satisfied: scikit-learn in /usr/local/lib/python3.10/dist-packages (from sentence-transformers) (1.2.2)\n",
            "Requirement already satisfied: scipy in /usr/local/lib/python3.10/dist-packages (from sentence-transformers) (1.11.4)\n",
            "Requirement already satisfied: nltk in /usr/local/lib/python3.10/dist-packages (from sentence-transformers) (3.8.1)\n",
            "Requirement already satisfied: sentencepiece in /usr/local/lib/python3.10/dist-packages (from sentence-transformers) (0.1.99)\n",
            "Requirement already satisfied: huggingface-hub>=0.15.1 in /usr/local/lib/python3.10/dist-packages (from sentence-transformers) (0.20.3)\n",
            "Requirement already satisfied: Pillow in /usr/local/lib/python3.10/dist-packages (from sentence-transformers) (9.4.0)\n",
            "Requirement already satisfied: filelock in /usr/local/lib/python3.10/dist-packages (from huggingface-hub>=0.15.1->sentence-transformers) (3.13.1)\n",
            "Requirement already satisfied: fsspec>=2023.5.0 in /usr/local/lib/python3.10/dist-packages (from huggingface-hub>=0.15.1->sentence-transformers) (2023.6.0)\n",
            "Requirement already satisfied: requests in /usr/local/lib/python3.10/dist-packages (from huggingface-hub>=0.15.1->sentence-transformers) (2.31.0)\n",
            "Requirement already satisfied: pyyaml>=5.1 in /usr/local/lib/python3.10/dist-packages (from huggingface-hub>=0.15.1->sentence-transformers) (6.0.1)\n",
            "Requirement already satisfied: typing-extensions>=3.7.4.3 in /usr/local/lib/python3.10/dist-packages (from huggingface-hub>=0.15.1->sentence-transformers) (4.9.0)\n",
            "Requirement already satisfied: packaging>=20.9 in /usr/local/lib/python3.10/dist-packages (from huggingface-hub>=0.15.1->sentence-transformers) (23.2)\n",
            "Requirement already satisfied: sympy in /usr/local/lib/python3.10/dist-packages (from torch>=1.11.0->sentence-transformers) (1.12)\n",
            "Requirement already satisfied: networkx in /usr/local/lib/python3.10/dist-packages (from torch>=1.11.0->sentence-transformers) (3.2.1)\n",
            "Requirement already satisfied: jinja2 in /usr/local/lib/python3.10/dist-packages (from torch>=1.11.0->sentence-transformers) (3.1.3)\n",
            "Requirement already satisfied: triton==2.1.0 in /usr/local/lib/python3.10/dist-packages (from torch>=1.11.0->sentence-transformers) (2.1.0)\n",
            "Requirement already satisfied: regex!=2019.12.17 in /usr/local/lib/python3.10/dist-packages (from transformers<5.0.0,>=4.32.0->sentence-transformers) (2023.12.25)\n",
            "Requirement already satisfied: tokenizers<0.19,>=0.14 in /usr/local/lib/python3.10/dist-packages (from transformers<5.0.0,>=4.32.0->sentence-transformers) (0.15.2)\n",
            "Requirement already satisfied: safetensors>=0.3.1 in /usr/local/lib/python3.10/dist-packages (from transformers<5.0.0,>=4.32.0->sentence-transformers) (0.4.2)\n",
            "Requirement already satisfied: click in /usr/local/lib/python3.10/dist-packages (from nltk->sentence-transformers) (8.1.7)\n",
            "Requirement already satisfied: joblib in /usr/local/lib/python3.10/dist-packages (from nltk->sentence-transformers) (1.3.2)\n",
            "Requirement already satisfied: threadpoolctl>=2.0.0 in /usr/local/lib/python3.10/dist-packages (from scikit-learn->sentence-transformers) (3.2.0)\n",
            "Requirement already satisfied: MarkupSafe>=2.0 in /usr/local/lib/python3.10/dist-packages (from jinja2->torch>=1.11.0->sentence-transformers) (2.1.5)\n",
            "Requirement already satisfied: charset-normalizer<4,>=2 in /usr/local/lib/python3.10/dist-packages (from requests->huggingface-hub>=0.15.1->sentence-transformers) (3.3.2)\n",
            "Requirement already satisfied: idna<4,>=2.5 in /usr/local/lib/python3.10/dist-packages (from requests->huggingface-hub>=0.15.1->sentence-transformers) (3.6)\n",
            "Requirement already satisfied: urllib3<3,>=1.21.1 in /usr/local/lib/python3.10/dist-packages (from requests->huggingface-hub>=0.15.1->sentence-transformers) (2.0.7)\n",
            "Requirement already satisfied: certifi>=2017.4.17 in /usr/local/lib/python3.10/dist-packages (from requests->huggingface-hub>=0.15.1->sentence-transformers) (2024.2.2)\n",
            "Requirement already satisfied: mpmath>=0.19 in /usr/local/lib/python3.10/dist-packages (from sympy->torch>=1.11.0->sentence-transformers) (1.3.0)\n",
            "Installing collected packages: sentence-transformers\n",
            "Successfully installed sentence-transformers-2.3.1\n"
          ]
        }
      ]
    },
    {
      "cell_type": "code",
      "source": [
        "import pandas as pd\n",
        "import os\n",
        "import json\n",
        "import re\n",
        "import scipy as sp\n",
        "import pickle\n",
        "\n",
        "import nltk\n",
        "from nltk.stem import PorterStemmer\n",
        "from nltk.corpus import stopwords\n",
        "from sklearn.feature_extraction.text import TfidfVectorizer\n",
        "from sklearn.decomposition import TruncatedSVD\n",
        "import numpy as np\n",
        "import matplotlib.pyplot as plt\n",
        "from nltk.tokenize import word_tokenize\n",
        "from tqdm import tqdm\n",
        "from sklearn.model_selection import train_test_split\n",
        "import faiss\n",
        "from sklearn.metrics import mean_squared_error, mean_absolute_error\n",
        "from transformers import DistilBertTokenizer, DistilBertModel\n",
        "from sentence_transformers import SentenceTransformer\n",
        "import torch\n",
        "\n",
        "import nltk\n",
        "nltk.download('punkt')\n",
        "\n",
        "import warnings\n",
        "warnings.filterwarnings('ignore')\n",
        "\n",
        "import random\n",
        "random.seed(1234)"
      ],
      "metadata": {
        "colab": {
          "base_uri": "https://localhost:8080/"
        },
        "id": "EQxFPqyJDWi4",
        "outputId": "fd8a93b9-fc22-4fbb-a75d-4fcffc46d632"
      },
      "execution_count": 7,
      "outputs": [
        {
          "output_type": "stream",
          "name": "stderr",
          "text": [
            "[nltk_data] Downloading package punkt to /root/nltk_data...\n",
            "[nltk_data]   Package punkt is already up-to-date!\n"
          ]
        }
      ]
    },
    {
      "cell_type": "code",
      "source": [
        "base_dir = '/content/gdrive/MyDrive/MLDS/Data_Mining/Project'\n",
        "data_dir = os.path.join(base_dir, 'data')\n",
        "os.listdir(data_dir)"
      ],
      "metadata": {
        "colab": {
          "base_uri": "https://localhost:8080/"
        },
        "id": "WNI4YUzIJkyG",
        "outputId": "32fdb063-5fc0-46dc-b4d7-b1af24778752"
      },
      "execution_count": 8,
      "outputs": [
        {
          "output_type": "execute_result",
          "data": {
            "text/plain": [
              "['process_user_business_data_v1.json',\n",
              " 'svd_400_tfidf_matrix_v1.npy',\n",
              " 'tfidf_matrix_small_v1.npz',\n",
              " 'tfidf_vectorizer_small_v1.pk',\n",
              " 'svd_500_tfidf_matrix_small_v1.npy',\n",
              " 'user_profiles_v1.json',\n",
              " 'user_profiles_v1.pkl',\n",
              " 'item_profiles_v1.pkl',\n",
              " 'filtered_small_df_v1.json',\n",
              " 'bert_base_rs_v1']"
            ]
          },
          "metadata": {},
          "execution_count": 8
        }
      ]
    },
    {
      "cell_type": "code",
      "source": [
        "meta_data_dir = os.path.join(data_dir, 'bert_base_rs_v1')\n",
        "os.makedirs(meta_data_dir, exist_ok=True)"
      ],
      "metadata": {
        "id": "LxfRyxDcJ_gd"
      },
      "execution_count": 9,
      "outputs": []
    },
    {
      "cell_type": "code",
      "source": [
        "data = pd.read_json(os.path.join(data_dir, 'filtered_small_df_v1.json'))\n",
        "data.head(2)"
      ],
      "metadata": {
        "colab": {
          "base_uri": "https://localhost:8080/",
          "height": 318
        },
        "id": "4wPr0OucKI0w",
        "outputId": "e7432457-03ff-4af8-9243-dd11a073ab68"
      },
      "execution_count": 9,
      "outputs": [
        {
          "output_type": "execute_result",
          "data": {
            "text/plain": [
              "                     review_id                 user_id  \\\n",
              "198656  bXS_TulbuRhtwStLepQzXg  -1MF2tosrw2WcCxeVNk81Q   \n",
              "828838  eZPQelDkeexhMhDxQdSRqg  -1MF2tosrw2WcCxeVNk81Q   \n",
              "\n",
              "                   business_id  stars_x  useful  funny  cool  \\\n",
              "198656  EJ7Tp_KdGx52wSu0_7gbEQ        4       4      1     1   \n",
              "828838  qFwKNXKt2fvCatrLAqDONg        1       1      0     1   \n",
              "\n",
              "                                                     text                date  \\\n",
              "198656  Went to see Shen Yun which left me in awe of w... 2019-03-04 22:15:44   \n",
              "828838  Piece of junk restaurant. The whole point of t... 2019-07-24 22:54:45   \n",
              "\n",
              "                                                 name  ... state postal_code  \\\n",
              "198656  Merriam Theater At the University of the Arts  ...    PA       19102   \n",
              "828838                                      Taco Bell  ...    PA       19154   \n",
              "\n",
              "         latitude  longitude  stars_y  review_count  is_open  \\\n",
              "198656  39.947674 -75.164636      2.5            82        1   \n",
              "828838  40.091630 -74.957990      2.0            33        1   \n",
              "\n",
              "                                               attributes  \\\n",
              "198656                            {'GoodForKids': 'True'}   \n",
              "828838  {'RestaurantsPriceRange2': '1', 'NoiseLevel': ...   \n",
              "\n",
              "                                               categories  \\\n",
              "198656  Colleges & Universities, Education, Cinema, Ar...   \n",
              "828838  Restaurants, Breakfast & Brunch, Tacos, Fast F...   \n",
              "\n",
              "                                                    hours  \n",
              "198656                                               None  \n",
              "828838  {'Monday': '8:0-23:0', 'Tuesday': '8:0-23:0', ...  \n",
              "\n",
              "[2 rows x 22 columns]"
            ],
            "text/html": [
              "\n",
              "  <div id=\"df-8bb8e0c3-f981-4459-8904-55520ec85f39\" class=\"colab-df-container\">\n",
              "    <div>\n",
              "<style scoped>\n",
              "    .dataframe tbody tr th:only-of-type {\n",
              "        vertical-align: middle;\n",
              "    }\n",
              "\n",
              "    .dataframe tbody tr th {\n",
              "        vertical-align: top;\n",
              "    }\n",
              "\n",
              "    .dataframe thead th {\n",
              "        text-align: right;\n",
              "    }\n",
              "</style>\n",
              "<table border=\"1\" class=\"dataframe\">\n",
              "  <thead>\n",
              "    <tr style=\"text-align: right;\">\n",
              "      <th></th>\n",
              "      <th>review_id</th>\n",
              "      <th>user_id</th>\n",
              "      <th>business_id</th>\n",
              "      <th>stars_x</th>\n",
              "      <th>useful</th>\n",
              "      <th>funny</th>\n",
              "      <th>cool</th>\n",
              "      <th>text</th>\n",
              "      <th>date</th>\n",
              "      <th>name</th>\n",
              "      <th>...</th>\n",
              "      <th>state</th>\n",
              "      <th>postal_code</th>\n",
              "      <th>latitude</th>\n",
              "      <th>longitude</th>\n",
              "      <th>stars_y</th>\n",
              "      <th>review_count</th>\n",
              "      <th>is_open</th>\n",
              "      <th>attributes</th>\n",
              "      <th>categories</th>\n",
              "      <th>hours</th>\n",
              "    </tr>\n",
              "  </thead>\n",
              "  <tbody>\n",
              "    <tr>\n",
              "      <th>198656</th>\n",
              "      <td>bXS_TulbuRhtwStLepQzXg</td>\n",
              "      <td>-1MF2tosrw2WcCxeVNk81Q</td>\n",
              "      <td>EJ7Tp_KdGx52wSu0_7gbEQ</td>\n",
              "      <td>4</td>\n",
              "      <td>4</td>\n",
              "      <td>1</td>\n",
              "      <td>1</td>\n",
              "      <td>Went to see Shen Yun which left me in awe of w...</td>\n",
              "      <td>2019-03-04 22:15:44</td>\n",
              "      <td>Merriam Theater At the University of the Arts</td>\n",
              "      <td>...</td>\n",
              "      <td>PA</td>\n",
              "      <td>19102</td>\n",
              "      <td>39.947674</td>\n",
              "      <td>-75.164636</td>\n",
              "      <td>2.5</td>\n",
              "      <td>82</td>\n",
              "      <td>1</td>\n",
              "      <td>{'GoodForKids': 'True'}</td>\n",
              "      <td>Colleges &amp; Universities, Education, Cinema, Ar...</td>\n",
              "      <td>None</td>\n",
              "    </tr>\n",
              "    <tr>\n",
              "      <th>828838</th>\n",
              "      <td>eZPQelDkeexhMhDxQdSRqg</td>\n",
              "      <td>-1MF2tosrw2WcCxeVNk81Q</td>\n",
              "      <td>qFwKNXKt2fvCatrLAqDONg</td>\n",
              "      <td>1</td>\n",
              "      <td>1</td>\n",
              "      <td>0</td>\n",
              "      <td>1</td>\n",
              "      <td>Piece of junk restaurant. The whole point of t...</td>\n",
              "      <td>2019-07-24 22:54:45</td>\n",
              "      <td>Taco Bell</td>\n",
              "      <td>...</td>\n",
              "      <td>PA</td>\n",
              "      <td>19154</td>\n",
              "      <td>40.091630</td>\n",
              "      <td>-74.957990</td>\n",
              "      <td>2.0</td>\n",
              "      <td>33</td>\n",
              "      <td>1</td>\n",
              "      <td>{'RestaurantsPriceRange2': '1', 'NoiseLevel': ...</td>\n",
              "      <td>Restaurants, Breakfast &amp; Brunch, Tacos, Fast F...</td>\n",
              "      <td>{'Monday': '8:0-23:0', 'Tuesday': '8:0-23:0', ...</td>\n",
              "    </tr>\n",
              "  </tbody>\n",
              "</table>\n",
              "<p>2 rows × 22 columns</p>\n",
              "</div>\n",
              "    <div class=\"colab-df-buttons\">\n",
              "\n",
              "  <div class=\"colab-df-container\">\n",
              "    <button class=\"colab-df-convert\" onclick=\"convertToInteractive('df-8bb8e0c3-f981-4459-8904-55520ec85f39')\"\n",
              "            title=\"Convert this dataframe to an interactive table.\"\n",
              "            style=\"display:none;\">\n",
              "\n",
              "  <svg xmlns=\"http://www.w3.org/2000/svg\" height=\"24px\" viewBox=\"0 -960 960 960\">\n",
              "    <path d=\"M120-120v-720h720v720H120Zm60-500h600v-160H180v160Zm220 220h160v-160H400v160Zm0 220h160v-160H400v160ZM180-400h160v-160H180v160Zm440 0h160v-160H620v160ZM180-180h160v-160H180v160Zm440 0h160v-160H620v160Z\"/>\n",
              "  </svg>\n",
              "    </button>\n",
              "\n",
              "  <style>\n",
              "    .colab-df-container {\n",
              "      display:flex;\n",
              "      gap: 12px;\n",
              "    }\n",
              "\n",
              "    .colab-df-convert {\n",
              "      background-color: #E8F0FE;\n",
              "      border: none;\n",
              "      border-radius: 50%;\n",
              "      cursor: pointer;\n",
              "      display: none;\n",
              "      fill: #1967D2;\n",
              "      height: 32px;\n",
              "      padding: 0 0 0 0;\n",
              "      width: 32px;\n",
              "    }\n",
              "\n",
              "    .colab-df-convert:hover {\n",
              "      background-color: #E2EBFA;\n",
              "      box-shadow: 0px 1px 2px rgba(60, 64, 67, 0.3), 0px 1px 3px 1px rgba(60, 64, 67, 0.15);\n",
              "      fill: #174EA6;\n",
              "    }\n",
              "\n",
              "    .colab-df-buttons div {\n",
              "      margin-bottom: 4px;\n",
              "    }\n",
              "\n",
              "    [theme=dark] .colab-df-convert {\n",
              "      background-color: #3B4455;\n",
              "      fill: #D2E3FC;\n",
              "    }\n",
              "\n",
              "    [theme=dark] .colab-df-convert:hover {\n",
              "      background-color: #434B5C;\n",
              "      box-shadow: 0px 1px 3px 1px rgba(0, 0, 0, 0.15);\n",
              "      filter: drop-shadow(0px 1px 2px rgba(0, 0, 0, 0.3));\n",
              "      fill: #FFFFFF;\n",
              "    }\n",
              "  </style>\n",
              "\n",
              "    <script>\n",
              "      const buttonEl =\n",
              "        document.querySelector('#df-8bb8e0c3-f981-4459-8904-55520ec85f39 button.colab-df-convert');\n",
              "      buttonEl.style.display =\n",
              "        google.colab.kernel.accessAllowed ? 'block' : 'none';\n",
              "\n",
              "      async function convertToInteractive(key) {\n",
              "        const element = document.querySelector('#df-8bb8e0c3-f981-4459-8904-55520ec85f39');\n",
              "        const dataTable =\n",
              "          await google.colab.kernel.invokeFunction('convertToInteractive',\n",
              "                                                    [key], {});\n",
              "        if (!dataTable) return;\n",
              "\n",
              "        const docLinkHtml = 'Like what you see? Visit the ' +\n",
              "          '<a target=\"_blank\" href=https://colab.research.google.com/notebooks/data_table.ipynb>data table notebook</a>'\n",
              "          + ' to learn more about interactive tables.';\n",
              "        element.innerHTML = '';\n",
              "        dataTable['output_type'] = 'display_data';\n",
              "        await google.colab.output.renderOutput(dataTable, element);\n",
              "        const docLink = document.createElement('div');\n",
              "        docLink.innerHTML = docLinkHtml;\n",
              "        element.appendChild(docLink);\n",
              "      }\n",
              "    </script>\n",
              "  </div>\n",
              "\n",
              "\n",
              "<div id=\"df-6ae600f3-dc85-4153-b43f-1662ecc9514c\">\n",
              "  <button class=\"colab-df-quickchart\" onclick=\"quickchart('df-6ae600f3-dc85-4153-b43f-1662ecc9514c')\"\n",
              "            title=\"Suggest charts\"\n",
              "            style=\"display:none;\">\n",
              "\n",
              "<svg xmlns=\"http://www.w3.org/2000/svg\" height=\"24px\"viewBox=\"0 0 24 24\"\n",
              "     width=\"24px\">\n",
              "    <g>\n",
              "        <path d=\"M19 3H5c-1.1 0-2 .9-2 2v14c0 1.1.9 2 2 2h14c1.1 0 2-.9 2-2V5c0-1.1-.9-2-2-2zM9 17H7v-7h2v7zm4 0h-2V7h2v10zm4 0h-2v-4h2v4z\"/>\n",
              "    </g>\n",
              "</svg>\n",
              "  </button>\n",
              "\n",
              "<style>\n",
              "  .colab-df-quickchart {\n",
              "      --bg-color: #E8F0FE;\n",
              "      --fill-color: #1967D2;\n",
              "      --hover-bg-color: #E2EBFA;\n",
              "      --hover-fill-color: #174EA6;\n",
              "      --disabled-fill-color: #AAA;\n",
              "      --disabled-bg-color: #DDD;\n",
              "  }\n",
              "\n",
              "  [theme=dark] .colab-df-quickchart {\n",
              "      --bg-color: #3B4455;\n",
              "      --fill-color: #D2E3FC;\n",
              "      --hover-bg-color: #434B5C;\n",
              "      --hover-fill-color: #FFFFFF;\n",
              "      --disabled-bg-color: #3B4455;\n",
              "      --disabled-fill-color: #666;\n",
              "  }\n",
              "\n",
              "  .colab-df-quickchart {\n",
              "    background-color: var(--bg-color);\n",
              "    border: none;\n",
              "    border-radius: 50%;\n",
              "    cursor: pointer;\n",
              "    display: none;\n",
              "    fill: var(--fill-color);\n",
              "    height: 32px;\n",
              "    padding: 0;\n",
              "    width: 32px;\n",
              "  }\n",
              "\n",
              "  .colab-df-quickchart:hover {\n",
              "    background-color: var(--hover-bg-color);\n",
              "    box-shadow: 0 1px 2px rgba(60, 64, 67, 0.3), 0 1px 3px 1px rgba(60, 64, 67, 0.15);\n",
              "    fill: var(--button-hover-fill-color);\n",
              "  }\n",
              "\n",
              "  .colab-df-quickchart-complete:disabled,\n",
              "  .colab-df-quickchart-complete:disabled:hover {\n",
              "    background-color: var(--disabled-bg-color);\n",
              "    fill: var(--disabled-fill-color);\n",
              "    box-shadow: none;\n",
              "  }\n",
              "\n",
              "  .colab-df-spinner {\n",
              "    border: 2px solid var(--fill-color);\n",
              "    border-color: transparent;\n",
              "    border-bottom-color: var(--fill-color);\n",
              "    animation:\n",
              "      spin 1s steps(1) infinite;\n",
              "  }\n",
              "\n",
              "  @keyframes spin {\n",
              "    0% {\n",
              "      border-color: transparent;\n",
              "      border-bottom-color: var(--fill-color);\n",
              "      border-left-color: var(--fill-color);\n",
              "    }\n",
              "    20% {\n",
              "      border-color: transparent;\n",
              "      border-left-color: var(--fill-color);\n",
              "      border-top-color: var(--fill-color);\n",
              "    }\n",
              "    30% {\n",
              "      border-color: transparent;\n",
              "      border-left-color: var(--fill-color);\n",
              "      border-top-color: var(--fill-color);\n",
              "      border-right-color: var(--fill-color);\n",
              "    }\n",
              "    40% {\n",
              "      border-color: transparent;\n",
              "      border-right-color: var(--fill-color);\n",
              "      border-top-color: var(--fill-color);\n",
              "    }\n",
              "    60% {\n",
              "      border-color: transparent;\n",
              "      border-right-color: var(--fill-color);\n",
              "    }\n",
              "    80% {\n",
              "      border-color: transparent;\n",
              "      border-right-color: var(--fill-color);\n",
              "      border-bottom-color: var(--fill-color);\n",
              "    }\n",
              "    90% {\n",
              "      border-color: transparent;\n",
              "      border-bottom-color: var(--fill-color);\n",
              "    }\n",
              "  }\n",
              "</style>\n",
              "\n",
              "  <script>\n",
              "    async function quickchart(key) {\n",
              "      const quickchartButtonEl =\n",
              "        document.querySelector('#' + key + ' button');\n",
              "      quickchartButtonEl.disabled = true;  // To prevent multiple clicks.\n",
              "      quickchartButtonEl.classList.add('colab-df-spinner');\n",
              "      try {\n",
              "        const charts = await google.colab.kernel.invokeFunction(\n",
              "            'suggestCharts', [key], {});\n",
              "      } catch (error) {\n",
              "        console.error('Error during call to suggestCharts:', error);\n",
              "      }\n",
              "      quickchartButtonEl.classList.remove('colab-df-spinner');\n",
              "      quickchartButtonEl.classList.add('colab-df-quickchart-complete');\n",
              "    }\n",
              "    (() => {\n",
              "      let quickchartButtonEl =\n",
              "        document.querySelector('#df-6ae600f3-dc85-4153-b43f-1662ecc9514c button');\n",
              "      quickchartButtonEl.style.display =\n",
              "        google.colab.kernel.accessAllowed ? 'block' : 'none';\n",
              "    })();\n",
              "  </script>\n",
              "</div>\n",
              "    </div>\n",
              "  </div>\n"
            ],
            "application/vnd.google.colaboratory.intrinsic+json": {
              "type": "dataframe",
              "variable_name": "data"
            }
          },
          "metadata": {},
          "execution_count": 9
        }
      ]
    },
    {
      "cell_type": "code",
      "source": [
        "relevant_cols = ['review_id', 'user_id', 'business_id', 'stars_y', 'text']\n",
        "data = data[relevant_cols]\n",
        "data.head(2)"
      ],
      "metadata": {
        "colab": {
          "base_uri": "https://localhost:8080/",
          "height": 112
        },
        "id": "XZCW1EVGKRax",
        "outputId": "711e219d-197a-487c-d9e8-bfcd3d01ac32"
      },
      "execution_count": 10,
      "outputs": [
        {
          "output_type": "execute_result",
          "data": {
            "text/plain": [
              "                     review_id                 user_id  \\\n",
              "198656  bXS_TulbuRhtwStLepQzXg  -1MF2tosrw2WcCxeVNk81Q   \n",
              "828838  eZPQelDkeexhMhDxQdSRqg  -1MF2tosrw2WcCxeVNk81Q   \n",
              "\n",
              "                   business_id  stars_y  \\\n",
              "198656  EJ7Tp_KdGx52wSu0_7gbEQ      2.5   \n",
              "828838  qFwKNXKt2fvCatrLAqDONg      2.0   \n",
              "\n",
              "                                                     text  \n",
              "198656  Went to see Shen Yun which left me in awe of w...  \n",
              "828838  Piece of junk restaurant. The whole point of t...  "
            ],
            "text/html": [
              "\n",
              "  <div id=\"df-d60f12e4-c79d-46e4-864f-79af3ee6d9f7\" class=\"colab-df-container\">\n",
              "    <div>\n",
              "<style scoped>\n",
              "    .dataframe tbody tr th:only-of-type {\n",
              "        vertical-align: middle;\n",
              "    }\n",
              "\n",
              "    .dataframe tbody tr th {\n",
              "        vertical-align: top;\n",
              "    }\n",
              "\n",
              "    .dataframe thead th {\n",
              "        text-align: right;\n",
              "    }\n",
              "</style>\n",
              "<table border=\"1\" class=\"dataframe\">\n",
              "  <thead>\n",
              "    <tr style=\"text-align: right;\">\n",
              "      <th></th>\n",
              "      <th>review_id</th>\n",
              "      <th>user_id</th>\n",
              "      <th>business_id</th>\n",
              "      <th>stars_y</th>\n",
              "      <th>text</th>\n",
              "    </tr>\n",
              "  </thead>\n",
              "  <tbody>\n",
              "    <tr>\n",
              "      <th>198656</th>\n",
              "      <td>bXS_TulbuRhtwStLepQzXg</td>\n",
              "      <td>-1MF2tosrw2WcCxeVNk81Q</td>\n",
              "      <td>EJ7Tp_KdGx52wSu0_7gbEQ</td>\n",
              "      <td>2.5</td>\n",
              "      <td>Went to see Shen Yun which left me in awe of w...</td>\n",
              "    </tr>\n",
              "    <tr>\n",
              "      <th>828838</th>\n",
              "      <td>eZPQelDkeexhMhDxQdSRqg</td>\n",
              "      <td>-1MF2tosrw2WcCxeVNk81Q</td>\n",
              "      <td>qFwKNXKt2fvCatrLAqDONg</td>\n",
              "      <td>2.0</td>\n",
              "      <td>Piece of junk restaurant. The whole point of t...</td>\n",
              "    </tr>\n",
              "  </tbody>\n",
              "</table>\n",
              "</div>\n",
              "    <div class=\"colab-df-buttons\">\n",
              "\n",
              "  <div class=\"colab-df-container\">\n",
              "    <button class=\"colab-df-convert\" onclick=\"convertToInteractive('df-d60f12e4-c79d-46e4-864f-79af3ee6d9f7')\"\n",
              "            title=\"Convert this dataframe to an interactive table.\"\n",
              "            style=\"display:none;\">\n",
              "\n",
              "  <svg xmlns=\"http://www.w3.org/2000/svg\" height=\"24px\" viewBox=\"0 -960 960 960\">\n",
              "    <path d=\"M120-120v-720h720v720H120Zm60-500h600v-160H180v160Zm220 220h160v-160H400v160Zm0 220h160v-160H400v160ZM180-400h160v-160H180v160Zm440 0h160v-160H620v160ZM180-180h160v-160H180v160Zm440 0h160v-160H620v160Z\"/>\n",
              "  </svg>\n",
              "    </button>\n",
              "\n",
              "  <style>\n",
              "    .colab-df-container {\n",
              "      display:flex;\n",
              "      gap: 12px;\n",
              "    }\n",
              "\n",
              "    .colab-df-convert {\n",
              "      background-color: #E8F0FE;\n",
              "      border: none;\n",
              "      border-radius: 50%;\n",
              "      cursor: pointer;\n",
              "      display: none;\n",
              "      fill: #1967D2;\n",
              "      height: 32px;\n",
              "      padding: 0 0 0 0;\n",
              "      width: 32px;\n",
              "    }\n",
              "\n",
              "    .colab-df-convert:hover {\n",
              "      background-color: #E2EBFA;\n",
              "      box-shadow: 0px 1px 2px rgba(60, 64, 67, 0.3), 0px 1px 3px 1px rgba(60, 64, 67, 0.15);\n",
              "      fill: #174EA6;\n",
              "    }\n",
              "\n",
              "    .colab-df-buttons div {\n",
              "      margin-bottom: 4px;\n",
              "    }\n",
              "\n",
              "    [theme=dark] .colab-df-convert {\n",
              "      background-color: #3B4455;\n",
              "      fill: #D2E3FC;\n",
              "    }\n",
              "\n",
              "    [theme=dark] .colab-df-convert:hover {\n",
              "      background-color: #434B5C;\n",
              "      box-shadow: 0px 1px 3px 1px rgba(0, 0, 0, 0.15);\n",
              "      filter: drop-shadow(0px 1px 2px rgba(0, 0, 0, 0.3));\n",
              "      fill: #FFFFFF;\n",
              "    }\n",
              "  </style>\n",
              "\n",
              "    <script>\n",
              "      const buttonEl =\n",
              "        document.querySelector('#df-d60f12e4-c79d-46e4-864f-79af3ee6d9f7 button.colab-df-convert');\n",
              "      buttonEl.style.display =\n",
              "        google.colab.kernel.accessAllowed ? 'block' : 'none';\n",
              "\n",
              "      async function convertToInteractive(key) {\n",
              "        const element = document.querySelector('#df-d60f12e4-c79d-46e4-864f-79af3ee6d9f7');\n",
              "        const dataTable =\n",
              "          await google.colab.kernel.invokeFunction('convertToInteractive',\n",
              "                                                    [key], {});\n",
              "        if (!dataTable) return;\n",
              "\n",
              "        const docLinkHtml = 'Like what you see? Visit the ' +\n",
              "          '<a target=\"_blank\" href=https://colab.research.google.com/notebooks/data_table.ipynb>data table notebook</a>'\n",
              "          + ' to learn more about interactive tables.';\n",
              "        element.innerHTML = '';\n",
              "        dataTable['output_type'] = 'display_data';\n",
              "        await google.colab.output.renderOutput(dataTable, element);\n",
              "        const docLink = document.createElement('div');\n",
              "        docLink.innerHTML = docLinkHtml;\n",
              "        element.appendChild(docLink);\n",
              "      }\n",
              "    </script>\n",
              "  </div>\n",
              "\n",
              "\n",
              "<div id=\"df-472077fc-c3b5-4d3c-8d7c-c23258184a48\">\n",
              "  <button class=\"colab-df-quickchart\" onclick=\"quickchart('df-472077fc-c3b5-4d3c-8d7c-c23258184a48')\"\n",
              "            title=\"Suggest charts\"\n",
              "            style=\"display:none;\">\n",
              "\n",
              "<svg xmlns=\"http://www.w3.org/2000/svg\" height=\"24px\"viewBox=\"0 0 24 24\"\n",
              "     width=\"24px\">\n",
              "    <g>\n",
              "        <path d=\"M19 3H5c-1.1 0-2 .9-2 2v14c0 1.1.9 2 2 2h14c1.1 0 2-.9 2-2V5c0-1.1-.9-2-2-2zM9 17H7v-7h2v7zm4 0h-2V7h2v10zm4 0h-2v-4h2v4z\"/>\n",
              "    </g>\n",
              "</svg>\n",
              "  </button>\n",
              "\n",
              "<style>\n",
              "  .colab-df-quickchart {\n",
              "      --bg-color: #E8F0FE;\n",
              "      --fill-color: #1967D2;\n",
              "      --hover-bg-color: #E2EBFA;\n",
              "      --hover-fill-color: #174EA6;\n",
              "      --disabled-fill-color: #AAA;\n",
              "      --disabled-bg-color: #DDD;\n",
              "  }\n",
              "\n",
              "  [theme=dark] .colab-df-quickchart {\n",
              "      --bg-color: #3B4455;\n",
              "      --fill-color: #D2E3FC;\n",
              "      --hover-bg-color: #434B5C;\n",
              "      --hover-fill-color: #FFFFFF;\n",
              "      --disabled-bg-color: #3B4455;\n",
              "      --disabled-fill-color: #666;\n",
              "  }\n",
              "\n",
              "  .colab-df-quickchart {\n",
              "    background-color: var(--bg-color);\n",
              "    border: none;\n",
              "    border-radius: 50%;\n",
              "    cursor: pointer;\n",
              "    display: none;\n",
              "    fill: var(--fill-color);\n",
              "    height: 32px;\n",
              "    padding: 0;\n",
              "    width: 32px;\n",
              "  }\n",
              "\n",
              "  .colab-df-quickchart:hover {\n",
              "    background-color: var(--hover-bg-color);\n",
              "    box-shadow: 0 1px 2px rgba(60, 64, 67, 0.3), 0 1px 3px 1px rgba(60, 64, 67, 0.15);\n",
              "    fill: var(--button-hover-fill-color);\n",
              "  }\n",
              "\n",
              "  .colab-df-quickchart-complete:disabled,\n",
              "  .colab-df-quickchart-complete:disabled:hover {\n",
              "    background-color: var(--disabled-bg-color);\n",
              "    fill: var(--disabled-fill-color);\n",
              "    box-shadow: none;\n",
              "  }\n",
              "\n",
              "  .colab-df-spinner {\n",
              "    border: 2px solid var(--fill-color);\n",
              "    border-color: transparent;\n",
              "    border-bottom-color: var(--fill-color);\n",
              "    animation:\n",
              "      spin 1s steps(1) infinite;\n",
              "  }\n",
              "\n",
              "  @keyframes spin {\n",
              "    0% {\n",
              "      border-color: transparent;\n",
              "      border-bottom-color: var(--fill-color);\n",
              "      border-left-color: var(--fill-color);\n",
              "    }\n",
              "    20% {\n",
              "      border-color: transparent;\n",
              "      border-left-color: var(--fill-color);\n",
              "      border-top-color: var(--fill-color);\n",
              "    }\n",
              "    30% {\n",
              "      border-color: transparent;\n",
              "      border-left-color: var(--fill-color);\n",
              "      border-top-color: var(--fill-color);\n",
              "      border-right-color: var(--fill-color);\n",
              "    }\n",
              "    40% {\n",
              "      border-color: transparent;\n",
              "      border-right-color: var(--fill-color);\n",
              "      border-top-color: var(--fill-color);\n",
              "    }\n",
              "    60% {\n",
              "      border-color: transparent;\n",
              "      border-right-color: var(--fill-color);\n",
              "    }\n",
              "    80% {\n",
              "      border-color: transparent;\n",
              "      border-right-color: var(--fill-color);\n",
              "      border-bottom-color: var(--fill-color);\n",
              "    }\n",
              "    90% {\n",
              "      border-color: transparent;\n",
              "      border-bottom-color: var(--fill-color);\n",
              "    }\n",
              "  }\n",
              "</style>\n",
              "\n",
              "  <script>\n",
              "    async function quickchart(key) {\n",
              "      const quickchartButtonEl =\n",
              "        document.querySelector('#' + key + ' button');\n",
              "      quickchartButtonEl.disabled = true;  // To prevent multiple clicks.\n",
              "      quickchartButtonEl.classList.add('colab-df-spinner');\n",
              "      try {\n",
              "        const charts = await google.colab.kernel.invokeFunction(\n",
              "            'suggestCharts', [key], {});\n",
              "      } catch (error) {\n",
              "        console.error('Error during call to suggestCharts:', error);\n",
              "      }\n",
              "      quickchartButtonEl.classList.remove('colab-df-spinner');\n",
              "      quickchartButtonEl.classList.add('colab-df-quickchart-complete');\n",
              "    }\n",
              "    (() => {\n",
              "      let quickchartButtonEl =\n",
              "        document.querySelector('#df-472077fc-c3b5-4d3c-8d7c-c23258184a48 button');\n",
              "      quickchartButtonEl.style.display =\n",
              "        google.colab.kernel.accessAllowed ? 'block' : 'none';\n",
              "    })();\n",
              "  </script>\n",
              "</div>\n",
              "    </div>\n",
              "  </div>\n"
            ],
            "application/vnd.google.colaboratory.intrinsic+json": {
              "type": "dataframe",
              "variable_name": "data"
            }
          },
          "metadata": {},
          "execution_count": 10
        }
      ]
    },
    {
      "cell_type": "code",
      "source": [
        "device = \"cuda\" if torch.cuda.is_available() else \"cpu\"\n",
        "print(device)\n",
        "model = SentenceTransformer('distilbert-base-nli-stsb-mean-tokens', device=device)"
      ],
      "metadata": {
        "colab": {
          "base_uri": "https://localhost:8080/"
        },
        "id": "PsU3-ycfK5I-",
        "outputId": "8faaff1e-d8e2-45b4-b07e-ecdb099d7982"
      },
      "execution_count": 12,
      "outputs": [
        {
          "output_type": "stream",
          "name": "stdout",
          "text": [
            "cuda\n"
          ]
        }
      ]
    },
    {
      "cell_type": "code",
      "source": [
        "# Encoding text to embeddings\n",
        "review_list = data.text.tolist()\n",
        "encoded_reviews = model.encode(review_list, show_progress_bar=True)"
      ],
      "metadata": {
        "colab": {
          "base_uri": "https://localhost:8080/",
          "height": 49,
          "referenced_widgets": [
            "38d2da74ca7a4fee97bc91795da910ff",
            "c64344efb82a49c3beaf31ba022f26e3",
            "e4fcca16f6ac49c0a248d9ea13565368",
            "59402f2bdc41412d95f447474fdbda77",
            "a7e5bee197984ba0861ebc2e0b590f09",
            "e3e0b543649041809db79cc3cdf4b8bc",
            "5ba30eb472984a30b394e66a177a66ac",
            "c27757393054442bbc7dd9032e64a418",
            "fc3b60012e7548f989e0ba8d25c70b47",
            "1bbb68ee53574bfaac6e3bcf5112a114",
            "dd80e073c4c34d6cb079769927f4ed67"
          ]
        },
        "id": "xtX1hrMKK_n8",
        "outputId": "7d954c25-165f-4b10-e5a7-7d4badd68ae9"
      },
      "execution_count": 13,
      "outputs": [
        {
          "output_type": "display_data",
          "data": {
            "text/plain": [
              "Batches:   0%|          | 0/10513 [00:00<?, ?it/s]"
            ],
            "application/vnd.jupyter.widget-view+json": {
              "version_major": 2,
              "version_minor": 0,
              "model_id": "38d2da74ca7a4fee97bc91795da910ff"
            }
          },
          "metadata": {}
        }
      ]
    },
    {
      "cell_type": "code",
      "source": [
        "encoded_reviews = list(encoded_reviews)"
      ],
      "metadata": {
        "id": "n6HVrKdPUgfI"
      },
      "execution_count": 17,
      "outputs": []
    },
    {
      "cell_type": "code",
      "source": [
        "data['embeddings'] = encoded_reviews\n",
        "\n",
        "encoded_df = data[['review_id','embeddings']]\n",
        "with open(os.path.join(meta_data_dir,'bert_encoded_df_v1.pkl'),'wb') as f:\n",
        "  pickle.dump(encoded_df, f)"
      ],
      "metadata": {
        "id": "mpUde3rXOfG-"
      },
      "execution_count": 19,
      "outputs": []
    },
    {
      "cell_type": "code",
      "source": [
        "# with open(os.path.join(meta_data_dir,'bert_encoded_df_v1.pkl'),'rb') as f:\n",
        "#   x = pickle.load(f)"
      ],
      "metadata": {
        "id": "-t0kfnnzUu_x"
      },
      "execution_count": 25,
      "outputs": []
    },
    {
      "cell_type": "code",
      "source": [
        "# with open(os.path.join(meta_data_dir, 'item_profiles.pkl'), 'wb') as f:\n",
        "#   pickle.dump(item_profiles, f)"
      ],
      "metadata": {
        "id": "cdKJUePEYB_Y"
      },
      "execution_count": 27,
      "outputs": []
    },
    {
      "cell_type": "code",
      "source": [
        "# Splitting the data into train and test set for business attributed based\n",
        "import math\n",
        "def split_on_business_ids(df, train_pct = 0.8):\n",
        "  df_copy = df.copy()\n",
        "  item_data = df_copy.groupby('business_id')\n",
        "  test_df = pd.DataFrame(columns=data.columns)\n",
        "  train_df = pd.DataFrame(columns=data.columns)\n",
        "\n",
        "  for business_id, item_df in tqdm(item_data):\n",
        "    total_len = item_df.shape[0]\n",
        "    train_idx_end = math.ceil(train_pct * total_len)\n",
        "\n",
        "    tmp_train_df = item_df.iloc[:train_idx_end]\n",
        "    tmp_test_df = item_df.iloc[train_idx_end:]\n",
        "    train_df = pd.concat([train_df, tmp_train_df])\n",
        "    if tmp_test_df.shape[0] == 0:\n",
        "      continue\n",
        "    test_df = pd.concat([test_df, tmp_test_df])\n",
        "  return train_df, test_df\n",
        "\n",
        "\n",
        "def split_on_user_ids(df, train_pct=0.8):\n",
        "  df_copy = df.copy()\n",
        "  user_data = df_copy.groupby('user_id')\n",
        "  test_df = pd.DataFrame(columns=data.columns)\n",
        "  train_df = pd.DataFrame(columns=data.columns)\n",
        "\n",
        "  for user_id, user_df in tqdm(user_data):\n",
        "    total_len = user_df.shape[0]\n",
        "    train_idx_end = math.ceil(train_pct * total_len)\n",
        "\n",
        "    tmp_train_df = user_df.iloc[:train_idx_end]\n",
        "    tmp_test_df = user_df.iloc[train_idx_end:]\n",
        "    train_df = pd.concat([train_df, tmp_train_df])\n",
        "    if tmp_test_df.shape[0] == 0:\n",
        "      continue\n",
        "    test_df = pd.concat([test_df, tmp_test_df])\n",
        "  return train_df, test_df"
      ],
      "metadata": {
        "id": "r-E5GbRyU3BB"
      },
      "execution_count": 34,
      "outputs": []
    },
    {
      "cell_type": "code",
      "source": [
        "#train_df, test_df = split_on_business_ids(df=data)"
      ],
      "metadata": {
        "id": "I5aP1sZ1ZXnD"
      },
      "execution_count": 35,
      "outputs": []
    },
    {
      "cell_type": "code",
      "source": [
        "data = pickle.load(open(os.path.join(meta_data_dir, 'combined_df.pkl'), 'rb'))\n",
        "train_df, test_df = split_on_user_ids(df=data)"
      ],
      "metadata": {
        "colab": {
          "base_uri": "https://localhost:8080/"
        },
        "id": "jA8ptfYhFrJl",
        "outputId": "1c894bad-c5d6-49d7-89d3-51547908c3a3"
      },
      "execution_count": 36,
      "outputs": [
        {
          "output_type": "stream",
          "name": "stderr",
          "text": [
            "100%|██████████| 6395/6395 [02:38<00:00, 40.34it/s]\n"
          ]
        }
      ]
    },
    {
      "cell_type": "code",
      "source": [
        "# # Checking whether test set does not have a completely new business profile\n",
        "# test_bids = test_df.business_id.unique()\n",
        "\n",
        "# train_bids = train_df[train_df.business_id.isin(test_bids)].business_id.unique()\n",
        "# assert len(test_bids) <= len(train_bids)"
      ],
      "metadata": {
        "id": "I1BbF7ZecBfc"
      },
      "execution_count": 55,
      "outputs": []
    },
    {
      "cell_type": "code",
      "source": [
        "# Checking whether test set does not have a completely new user profile\n",
        "test_uids = test_df.user_id.unique()\n",
        "\n",
        "train_uids = train_df[train_df.user_id.isin(test_uids)].user_id.unique()\n",
        "assert len(test_uids) <= len(train_uids)"
      ],
      "metadata": {
        "id": "O60kIF8oEoep"
      },
      "execution_count": 37,
      "outputs": []
    },
    {
      "cell_type": "code",
      "source": [
        "with open(os.path.join(meta_data_dir, 'train_df_user.pkl'), 'wb') as f:\n",
        "  pickle.dump(train_df, f)\n",
        "\n",
        "with open(os.path.join(meta_data_dir, 'test_df_user.pkl'), 'wb') as f:\n",
        "  pickle.dump(test_df, f)"
      ],
      "metadata": {
        "id": "fhZj6ZDoe4IA"
      },
      "execution_count": 38,
      "outputs": []
    },
    {
      "cell_type": "code",
      "source": [
        "def create_business_profiles(data):\n",
        "  item_data = data.groupby('business_id')\n",
        "  item_profiles = {}\n",
        "  for business_id, item_df in tqdm(item_data):\n",
        "    item_embeddings = np.array(item_df.embeddings.tolist())\n",
        "    average_embedding = np.mean(item_embeddings,axis=0)\n",
        "    item_profiles[business_id] = average_embedding\n",
        "\n",
        "  return item_profiles\n",
        "\n",
        "item_profiles = create_business_profiles(train_df)\n",
        "\n",
        "with open(os.path.join(meta_data_dir, 'train_item_profiles.pkl'), 'wb') as f:\n",
        "  pickle.dump(item_profiles, f)"
      ],
      "metadata": {
        "colab": {
          "base_uri": "https://localhost:8080/"
        },
        "id": "tR36Lhk2Yv8t",
        "outputId": "1b15125e-6783-4b16-f7d7-c1acbadef991"
      },
      "execution_count": 39,
      "outputs": [
        {
          "output_type": "stream",
          "name": "stderr",
          "text": [
            "100%|██████████| 12510/12510 [00:01<00:00, 8157.51it/s]\n"
          ]
        }
      ]
    },
    {
      "cell_type": "code",
      "source": [
        "def create_user_profiles(data):\n",
        "  user_data = data.groupby('user_id')\n",
        "  user_profiles = {}\n",
        "  for user_id, user_df in tqdm(user_data):\n",
        "    user_embeddings = np.array(user_df.embeddings.tolist())\n",
        "    average_embedding = np.mean(user_embeddings,axis=0)\n",
        "    user_profiles[user_id] = average_embedding\n",
        "\n",
        "  return user_profiles\n",
        "\n",
        "user_profiles = create_user_profiles(train_df)\n",
        "\n",
        "with open(os.path.join(meta_data_dir, 'train_user_profiles.pkl'), 'wb') as f:\n",
        "  pickle.dump(user_profiles, f)"
      ],
      "metadata": {
        "colab": {
          "base_uri": "https://localhost:8080/"
        },
        "id": "b_dfbdRHENaZ",
        "outputId": "3af1e84b-2107-425d-89ae-32853680d9bb"
      },
      "execution_count": 40,
      "outputs": [
        {
          "output_type": "stream",
          "name": "stderr",
          "text": [
            "100%|██████████| 6395/6395 [00:00<00:00, 7202.70it/s]\n"
          ]
        }
      ]
    },
    {
      "cell_type": "code",
      "source": [
        "#len(user_profiles)"
      ],
      "metadata": {
        "id": "1uwGhf8yEkOj"
      },
      "execution_count": 25,
      "outputs": []
    },
    {
      "cell_type": "code",
      "source": [
        "class CBPredictor:\n",
        "  def __init__(self, item_profiles, user_profiles, train_data):\n",
        "    self.item_profiles = item_profiles\n",
        "    self.user_profiles = user_profiles\n",
        "    self.train_data = train_data\n",
        "    self.idx2business = {idx:business_id for idx, business_id in enumerate(self.item_profiles)}\n",
        "    self.init_db()\n",
        "\n",
        "\n",
        "  def init_db(self):\n",
        "    print(\"Initializing Vector Database\")\n",
        "    profile_vectors = np.array(list(self.item_profiles.values()))\n",
        "    normalized_profile_vectors  =  profile_vectors / np.linalg.norm(profile_vectors, axis=1)[:, np.newaxis]\n",
        "\n",
        "    dimension = profile_vectors.shape[1]\n",
        "    self.index = faiss.IndexFlatIP(dimension)  # IndexFlatIP uses inner product (equivalent to cosine similarity for normalized vectors)\n",
        "\n",
        "    self.index.add(normalized_profile_vectors.astype('float32'))  # FAISS expects vectors to be in float32 format\n",
        "    print(\"Database Initialized\")\n",
        "\n",
        "\n",
        "  def fetch_topk(self, query_vector, topK):\n",
        "    normalized_query = query_vector / np.linalg.norm(query_vector, axis=1)[:, np.newaxis]\n",
        "    D, I = self.index.search(normalized_query.astype('float32'), topK)\n",
        "\n",
        "    recommended_business_ids = [self.idx2business[idx] for idx in I[0]]\n",
        "    return recommended_business_ids\n",
        "\n",
        "  def predict_rating(self, predicted_bids):\n",
        "    return self.train_data[self.train_data.business_id.isin(predicted_bids)]['stars_y'].mean()\n",
        "\n",
        "  def predict(self, user_id, topK):\n",
        "    if user_id not in self.user_profiles:\n",
        "      raise ValueError(f\"{user_id} not found in the database\")\n",
        "\n",
        "    query_vector = [self.user_profiles.get(user_id)]\n",
        "\n",
        "    predicted_bids = self.fetch_topk(query_vector, topK)\n",
        "    predicted_rating = self.predict_rating(predicted_bids)\n",
        "    return {'bids' : predicted_bids, 'rating' : predicted_rating}"
      ],
      "metadata": {
        "id": "4ekJGUwejR5u"
      },
      "execution_count": 45,
      "outputs": []
    },
    {
      "cell_type": "code",
      "source": [
        "# with open(os.path.join(meta_data_dir, 'train_item_profiles.pkl'), 'wb') as f:\n",
        "#   pickle.dump(item_profiles, f)\n",
        "\n",
        "# item_profiles = pickle.load(open(os.path.join(meta_data_dir, 'train_item_profiles.pkl'), 'rb'))\n",
        "# train_df = pickle.load(open(os.path.join(meta_data_dir, 'train_df_user.pkl'), 'rb'))\n",
        "# test_df= pickle.load(open(os.path.join(meta_data_dir, 'test_df_user.pkl'), 'rb'))"
      ],
      "metadata": {
        "id": "wCJ4cyH32oYC"
      },
      "execution_count": 46,
      "outputs": []
    },
    {
      "cell_type": "code",
      "source": [
        "cb_predictor = CBPredictor(item_profiles=item_profiles,\n",
        "                           user_profiles=user_profiles,\n",
        "                           train_data = train_df)"
      ],
      "metadata": {
        "colab": {
          "base_uri": "https://localhost:8080/"
        },
        "id": "yQG1ote2m7EZ",
        "outputId": "56254b15-70d5-4b8f-e7ea-ca31e496b53f"
      },
      "execution_count": 47,
      "outputs": [
        {
          "output_type": "stream",
          "name": "stdout",
          "text": [
            "Initializing Vector Database\n",
            "Database Initialized\n"
          ]
        }
      ]
    },
    {
      "cell_type": "code",
      "source": [
        "sample_uid = test_df.user_id.iloc[1]\n",
        "sample_review = test_df.text.iloc[1]\n",
        "sample_rating = test_df.stars_y.iloc[1]\n",
        "print(sample_uid)\n",
        "print(sample_review)\n",
        "print(sample_rating)\n",
        "#preds = cb_predictor.predict()"
      ],
      "metadata": {
        "colab": {
          "base_uri": "https://localhost:8080/"
        },
        "id": "HK7QGUyxnPWU",
        "outputId": "6fca6a39-a83f-42ab-abe2-ee1e61fee99b"
      },
      "execution_count": 48,
      "outputs": [
        {
          "output_type": "stream",
          "name": "stdout",
          "text": [
            "-1MF2tosrw2WcCxeVNk81Q\n",
            "This Vietnamese place, affectionately known as the Choo Choo Train, has been in existence for decades. Although I have been here numerous times years before, I took a 7 year hiatus due to another pho place I have been frequenting.\n",
            "\n",
            "For a change of pace, I ordered the lemon grass pork chop with broken rice and another guest ordered the pho. The meal was under $20 which was a great deal, but I'm more experienced in Vietnamese food now and I can say that this is average.\n",
            "\n",
            "The lemon grass pork chop was flavorful, but the effort put into this dish left something to be desired. The fish sauce was too sweet to a point of scratching at one's throat and the pork chop was not marinated enough for the flavors to seep in. I also enjoyed the chop to be slightly caramelized around the edges but this was just cooked with the tiniest bits of caramelization.\n",
            "\n",
            "In addition, the pho broth was neither rich nor flavorful. It seems to inherit the spices and bones of a good broth, but simply wasn't simmered long enough for the delicate, savory, bone flavors to seep in.\n",
            "\n",
            "In addition to the mediocre dishes, the restaurant itself was cramped and sticky. There was almost no breathing space between your table and your neighbors and the AC was not strong enough to accommodate the crowd we had that day on a hot summer afternoon.\n",
            "\n",
            "Overall, this place had the potential to be better, but didn't seem like it wanted to try. It certainly could fool any tourists or pho newbie, but I'd have to pass on this one.\n",
            "4.0\n"
          ]
        }
      ]
    },
    {
      "cell_type": "code",
      "source": [
        "preds = cb_predictor.predict(sample_uid, 5)"
      ],
      "metadata": {
        "id": "dbQsW6JtnVns"
      },
      "execution_count": 49,
      "outputs": []
    },
    {
      "cell_type": "code",
      "source": [
        "train_df[train_df.business_id == preds.get('bids')[1]].text.tolist()[0]"
      ],
      "metadata": {
        "colab": {
          "base_uri": "https://localhost:8080/",
          "height": 71
        },
        "id": "ROvVh79pnvAZ",
        "outputId": "cc1d56d4-3c89-4c38-9e5b-3df92e1ac9b9"
      },
      "execution_count": 50,
      "outputs": [
        {
          "output_type": "execute_result",
          "data": {
            "text/plain": [
              "'Dim sum is comparable to the other places in Chinatown, but the thing that sets Imperial Inn apart in my mind is that they always have the steamed bbq pork buns. For some reason other places will say \"it\\'s coming\" when you ask for it but either don\\'t, or take a long time. It\\'s one of the most popular dishes, why don\\'t you have it more readily?! IMPERIAL Inn earns it\\'s title for this.'"
            ],
            "application/vnd.google.colaboratory.intrinsic+json": {
              "type": "string"
            }
          },
          "metadata": {},
          "execution_count": 50
        }
      ]
    },
    {
      "cell_type": "code",
      "source": [
        "def evaluate_CBR(df_test, topk):\n",
        "  user_data = df_test.groupby('user_id')\n",
        "\n",
        "  gt_ratings = [user_df.stars_y.mean() for business_id, user_df in user_data]\n",
        "  predicted_ratings = []\n",
        "  for user_id, user_df in tqdm(user_data):\n",
        "    preds = cb_predictor.predict(user_id = user_id, topK=topk)\n",
        "    predicted_ratings.append(preds.get('rating'))\n",
        "\n",
        "  mse = mean_squared_error(gt_ratings, predicted_ratings)\n",
        "  mae = mean_absolute_error(gt_ratings, predicted_ratings)\n",
        "  print()\n",
        "  print(f\"mse@k={topk} : {mse}, mae@k={topk} : {mae}\")\n",
        "  print(\"Done\")\n",
        "  return mse, mae"
      ],
      "metadata": {
        "id": "3JTfC3KAoFWt"
      },
      "execution_count": 51,
      "outputs": []
    },
    {
      "cell_type": "code",
      "source": [
        "# Testing on 10k Samples\n",
        "topk_list = [2, 5, 10, 15, 20]\n",
        "mse_list = []\n",
        "mae_list = []\n",
        "for topk in topk_list:\n",
        "  print(f\"K = {topk}\")\n",
        "  mse, mae = evaluate_CBR(test_df, topk=topk)\n",
        "  mse_list.append(mse)\n",
        "  mae_list.append(mae)"
      ],
      "metadata": {
        "colab": {
          "base_uri": "https://localhost:8080/"
        },
        "id": "UCMvZOPwoptN",
        "outputId": "72642642-93bd-478f-f556-3fa151988988"
      },
      "execution_count": 52,
      "outputs": [
        {
          "output_type": "stream",
          "name": "stdout",
          "text": [
            "K = 2\n"
          ]
        },
        {
          "output_type": "stream",
          "name": "stderr",
          "text": [
            "100%|██████████| 6395/6395 [03:23<00:00, 31.46it/s]\n"
          ]
        },
        {
          "output_type": "stream",
          "name": "stdout",
          "text": [
            "\n",
            "mse@k=2 : 0.29987501747586603, mae@k=2 : 0.41724211761946095\n",
            "Done\n",
            "K = 5\n"
          ]
        },
        {
          "output_type": "stream",
          "name": "stderr",
          "text": [
            "100%|██████████| 6395/6395 [04:11<00:00, 25.46it/s]\n"
          ]
        },
        {
          "output_type": "stream",
          "name": "stdout",
          "text": [
            "\n",
            "mse@k=5 : 0.2359800827746944, mae@k=5 : 0.365236256629393\n",
            "Done\n",
            "K = 10\n"
          ]
        },
        {
          "output_type": "stream",
          "name": "stderr",
          "text": [
            "100%|██████████| 6395/6395 [04:20<00:00, 24.55it/s]\n"
          ]
        },
        {
          "output_type": "stream",
          "name": "stdout",
          "text": [
            "\n",
            "mse@k=10 : 0.19642566161222186, mae@k=10 : 0.3319342175737388\n",
            "Done\n",
            "K = 15\n"
          ]
        },
        {
          "output_type": "stream",
          "name": "stderr",
          "text": [
            "100%|██████████| 6395/6395 [03:24<00:00, 31.29it/s]\n"
          ]
        },
        {
          "output_type": "stream",
          "name": "stdout",
          "text": [
            "\n",
            "mse@k=15 : 0.17803244135561772, mae@k=15 : 0.31557306741092905\n",
            "Done\n",
            "K = 20\n"
          ]
        },
        {
          "output_type": "stream",
          "name": "stderr",
          "text": [
            "100%|██████████| 6395/6395 [04:28<00:00, 23.86it/s]"
          ]
        },
        {
          "output_type": "stream",
          "name": "stdout",
          "text": [
            "\n",
            "mse@k=20 : 0.16721644283763817, mae@k=20 : 0.30559098565443094\n",
            "Done\n"
          ]
        },
        {
          "output_type": "stream",
          "name": "stderr",
          "text": [
            "\n"
          ]
        }
      ]
    },
    {
      "cell_type": "code",
      "source": [
        "plt.plot(topk_list, mse_list, color='r')\n",
        "plt.xlabel('topk')\n",
        "plt.ylabel('mse')\n",
        "plt.title('MSE vs TopK')"
      ],
      "metadata": {
        "colab": {
          "base_uri": "https://localhost:8080/",
          "height": 490
        },
        "id": "T9xxwpUMpUJF",
        "outputId": "f3cac60a-1f4c-44d9-9139-edaafe549bd5"
      },
      "execution_count": 53,
      "outputs": [
        {
          "output_type": "execute_result",
          "data": {
            "text/plain": [
              "Text(0.5, 1.0, 'MSE vs TopK')"
            ]
          },
          "metadata": {},
          "execution_count": 53
        },
        {
          "output_type": "display_data",
          "data": {
            "text/plain": [
              "<Figure size 640x480 with 1 Axes>"
            ],
            "image/png": "[encoded data removed]"
          },
          "metadata": {}
        }
      ]
    },
    {
      "cell_type": "code",
      "source": [
        "plt.plot(topk_list, mae_list, color='g')\n",
        "plt.xlabel('topk')\n",
        "plt.ylabel('mae')\n",
        "plt.title('MAE vs TopK')"
      ],
      "metadata": {
        "colab": {
          "base_uri": "https://localhost:8080/",
          "height": 490
        },
        "id": "pjBThixjMov_",
        "outputId": "d024d70f-8270-4509-ecb0-f678f6344148"
      },
      "execution_count": 54,
      "outputs": [
        {
          "output_type": "execute_result",
          "data": {
            "text/plain": [
              "Text(0.5, 1.0, 'MAE vs TopK')"
            ]
          },
          "metadata": {},
          "execution_count": 54
        },
        {
          "output_type": "display_data",
          "data": {
            "text/plain": [
              "<Figure size 640x480 with 1 Axes>"
            ],
            "image/png": "[encoded data removed]"
          },
          "metadata": {}
        }
      ]
    },
    {
      "cell_type": "code",
      "source": [],
      "metadata": {
        "id": "YHcaPjccMqvZ"
      },
      "execution_count": null,
      "outputs": []
    }
  ]
}