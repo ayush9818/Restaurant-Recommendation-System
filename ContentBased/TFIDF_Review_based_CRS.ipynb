{
  "nbformat": 4,
  "nbformat_minor": 0,
  "metadata": {
    "colab": {
      "provenance": []
    },
    "kernelspec": {
      "name": "python3",
      "display_name": "Python 3"
    },
    "language_info": {
      "name": "python"
    }
  },
  "cells": [
    {
      "cell_type": "code",
      "execution_count": 1,
      "metadata": {
        "colab": {
          "base_uri": "https://localhost:8080/"
        },
        "id": "u3E-JWXKcQP_",
        "outputId": "7556e62f-66d0-4724-e17c-2b67f2aeaee8"
      },
      "outputs": [
        {
          "output_type": "stream",
          "name": "stdout",
          "text": [
            "Drive already mounted at /content/gdrive; to attempt to forcibly remount, call drive.mount(\"/content/gdrive\", force_remount=True).\n"
          ]
        }
      ],
      "source": [
        "from google.colab import drive\n",
        "drive.mount('/content/gdrive')"
      ]
    },
    {
      "cell_type": "code",
      "source": [
        "import pandas as pd\n",
        "import os\n",
        "import json\n",
        "import re\n",
        "import scipy as sp\n",
        "import pickle\n",
        "\n",
        "import nltk\n",
        "from nltk.stem import PorterStemmer\n",
        "from nltk.corpus import stopwords\n",
        "from sklearn.feature_extraction.text import TfidfVectorizer\n",
        "from sklearn.decomposition import TruncatedSVD\n",
        "import numpy as np\n",
        "import matplotlib.pyplot as plt\n",
        "from nltk.tokenize import word_tokenize\n",
        "from tqdm import tqdm\n",
        "from sklearn.model_selection import train_test_split\n",
        "import faiss\n",
        "from sklearn.metrics import mean_squared_error, mean_absolute_error\n",
        "\n",
        "import nltk\n",
        "nltk.download('punkt')\n",
        "\n",
        "import warnings\n",
        "warnings.filterwarnings('ignore')\n",
        "\n",
        "import random\n",
        "random.seed(1234)"
      ],
      "metadata": {
        "colab": {
          "base_uri": "https://localhost:8080/"
        },
        "id": "2fH2QA46EY_g",
        "outputId": "fdebc1fb-bae6-4ab1-c6e6-749af1f5c0df"
      },
      "execution_count": 80,
      "outputs": [
        {
          "output_type": "stream",
          "name": "stderr",
          "text": [
            "[nltk_data] Downloading package punkt to /root/nltk_data...\n",
            "[nltk_data]   Package punkt is already up-to-date!\n"
          ]
        }
      ]
    },
    {
      "cell_type": "code",
      "source": [
        "#! pip install faiss-cpu"
      ],
      "metadata": {
        "id": "3VFS-BtuGcH9"
      },
      "execution_count": 33,
      "outputs": []
    },
    {
      "cell_type": "markdown",
      "source": [
        "## Problem Statement\n",
        "\n",
        "Given a user, predict the similar restaurants matching with user profile\n",
        "\n",
        "- User Profile : Average of Reviews Given by a User\n",
        "- Business Profile : Average of all Reviews received by a restaurant\n",
        "\n",
        "How to handle the cold start problem\n",
        "\n",
        "- If the user is not in the user profile database, start with the average  user profiles of all the users\n",
        "\n",
        "**Experiments**\n",
        "\n",
        "- Split Data Randomly\n",
        "- Split Data based on Unique Users only\n",
        "- Split Data based on Unique Restaurants"
      ],
      "metadata": {
        "id": "sP0665FcFT5d"
      }
    },
    {
      "cell_type": "code",
      "source": [
        "base_dir = '/content/gdrive/MyDrive/MLDS/Data_Mining/Project'\n",
        "data_dir = os.path.join(base_dir, 'data')\n",
        "os.listdir(data_dir)"
      ],
      "metadata": {
        "colab": {
          "base_uri": "https://localhost:8080/"
        },
        "id": "KAvo-L5_FfKQ",
        "outputId": "0def893f-b539-494e-9d59-0626bfa29479"
      },
      "execution_count": 3,
      "outputs": [
        {
          "output_type": "execute_result",
          "data": {
            "text/plain": [
              "['process_user_business_data_v1.json',\n",
              " 'svd_400_tfidf_matrix_v1.npy',\n",
              " 'filtered_small_df_v1.json',\n",
              " 'tfidf_matrix_small_v1.npz',\n",
              " 'tfidf_vectorizer_small_v1.pk',\n",
              " 'svd_500_tfidf_matrix_small_v1.npy',\n",
              " 'user_profiles_v1.json',\n",
              " 'user_profiles_v1.pkl']"
            ]
          },
          "metadata": {},
          "execution_count": 3
        }
      ]
    },
    {
      "cell_type": "code",
      "source": [
        "# data = pd.read_json(os.path.join(data_dir,'process_user_business_data_v1.json'))\n",
        "# print(data.shape)"
      ],
      "metadata": {
        "id": "upcMCY5dFNBe"
      },
      "execution_count": 4,
      "outputs": []
    },
    {
      "cell_type": "code",
      "source": [
        "#data.head(2)"
      ],
      "metadata": {
        "id": "XK6ijQMWMFcU"
      },
      "execution_count": 6,
      "outputs": []
    },
    {
      "cell_type": "code",
      "source": [
        "## The dataset is quite large to be worked on CPU. So, taking randomly sampling the data\n",
        "user_data = data.groupby('user_id')['review_id'].count().sort_values(ascending=False).reset_index()\n",
        "user_data.rename(columns = {'review_id' : 'review_count'}, inplace=True)\n",
        "user_data.head(2)"
      ],
      "metadata": {
        "colab": {
          "base_uri": "https://localhost:8080/",
          "height": 112
        },
        "id": "OFw-sSjnLsH-",
        "outputId": "adb90297-f27d-415d-fb24-e720440dc5b3"
      },
      "execution_count": null,
      "outputs": [
        {
          "output_type": "execute_result",
          "data": {
            "text/plain": [
              "                  user_id  review_count\n",
              "0  _BcWyKQL16ndpBdggh2kNA          1397\n",
              "1  ET8n-r7glWYqZhuR6GcdNw          1282"
            ],
            "text/html": [
              "\n",
              "  <div id=\"df-b184c2e4-472d-403a-851f-3f9d3a0321e1\" class=\"colab-df-container\">\n",
              "    <div>\n",
              "<style scoped>\n",
              "    .dataframe tbody tr th:only-of-type {\n",
              "        vertical-align: middle;\n",
              "    }\n",
              "\n",
              "    .dataframe tbody tr th {\n",
              "        vertical-align: top;\n",
              "    }\n",
              "\n",
              "    .dataframe thead th {\n",
              "        text-align: right;\n",
              "    }\n",
              "</style>\n",
              "<table border=\"1\" class=\"dataframe\">\n",
              "  <thead>\n",
              "    <tr style=\"text-align: right;\">\n",
              "      <th></th>\n",
              "      <th>user_id</th>\n",
              "      <th>review_count</th>\n",
              "    </tr>\n",
              "  </thead>\n",
              "  <tbody>\n",
              "    <tr>\n",
              "      <th>0</th>\n",
              "      <td>_BcWyKQL16ndpBdggh2kNA</td>\n",
              "      <td>1397</td>\n",
              "    </tr>\n",
              "    <tr>\n",
              "      <th>1</th>\n",
              "      <td>ET8n-r7glWYqZhuR6GcdNw</td>\n",
              "      <td>1282</td>\n",
              "    </tr>\n",
              "  </tbody>\n",
              "</table>\n",
              "</div>\n",
              "    <div class=\"colab-df-buttons\">\n",
              "\n",
              "  <div class=\"colab-df-container\">\n",
              "    <button class=\"colab-df-convert\" onclick=\"convertToInteractive('df-b184c2e4-472d-403a-851f-3f9d3a0321e1')\"\n",
              "            title=\"Convert this dataframe to an interactive table.\"\n",
              "            style=\"display:none;\">\n",
              "\n",
              "  <svg xmlns=\"http://www.w3.org/2000/svg\" height=\"24px\" viewBox=\"0 -960 960 960\">\n",
              "    <path d=\"M120-120v-720h720v720H120Zm60-500h600v-160H180v160Zm220 220h160v-160H400v160Zm0 220h160v-160H400v160ZM180-400h160v-160H180v160Zm440 0h160v-160H620v160ZM180-180h160v-160H180v160Zm440 0h160v-160H620v160Z\"/>\n",
              "  </svg>\n",
              "    </button>\n",
              "\n",
              "  <style>\n",
              "    .colab-df-container {\n",
              "      display:flex;\n",
              "      gap: 12px;\n",
              "    }\n",
              "\n",
              "    .colab-df-convert {\n",
              "      background-color: #E8F0FE;\n",
              "      border: none;\n",
              "      border-radius: 50%;\n",
              "      cursor: pointer;\n",
              "      display: none;\n",
              "      fill: #1967D2;\n",
              "      height: 32px;\n",
              "      padding: 0 0 0 0;\n",
              "      width: 32px;\n",
              "    }\n",
              "\n",
              "    .colab-df-convert:hover {\n",
              "      background-color: #E2EBFA;\n",
              "      box-shadow: 0px 1px 2px rgba(60, 64, 67, 0.3), 0px 1px 3px 1px rgba(60, 64, 67, 0.15);\n",
              "      fill: #174EA6;\n",
              "    }\n",
              "\n",
              "    .colab-df-buttons div {\n",
              "      margin-bottom: 4px;\n",
              "    }\n",
              "\n",
              "    [theme=dark] .colab-df-convert {\n",
              "      background-color: #3B4455;\n",
              "      fill: #D2E3FC;\n",
              "    }\n",
              "\n",
              "    [theme=dark] .colab-df-convert:hover {\n",
              "      background-color: #434B5C;\n",
              "      box-shadow: 0px 1px 3px 1px rgba(0, 0, 0, 0.15);\n",
              "      filter: drop-shadow(0px 1px 2px rgba(0, 0, 0, 0.3));\n",
              "      fill: #FFFFFF;\n",
              "    }\n",
              "  </style>\n",
              "\n",
              "    <script>\n",
              "      const buttonEl =\n",
              "        document.querySelector('#df-b184c2e4-472d-403a-851f-3f9d3a0321e1 button.colab-df-convert');\n",
              "      buttonEl.style.display =\n",
              "        google.colab.kernel.accessAllowed ? 'block' : 'none';\n",
              "\n",
              "      async function convertToInteractive(key) {\n",
              "        const element = document.querySelector('#df-b184c2e4-472d-403a-851f-3f9d3a0321e1');\n",
              "        const dataTable =\n",
              "          await google.colab.kernel.invokeFunction('convertToInteractive',\n",
              "                                                    [key], {});\n",
              "        if (!dataTable) return;\n",
              "\n",
              "        const docLinkHtml = 'Like what you see? Visit the ' +\n",
              "          '<a target=\"_blank\" href=https://colab.research.google.com/notebooks/data_table.ipynb>data table notebook</a>'\n",
              "          + ' to learn more about interactive tables.';\n",
              "        element.innerHTML = '';\n",
              "        dataTable['output_type'] = 'display_data';\n",
              "        await google.colab.output.renderOutput(dataTable, element);\n",
              "        const docLink = document.createElement('div');\n",
              "        docLink.innerHTML = docLinkHtml;\n",
              "        element.appendChild(docLink);\n",
              "      }\n",
              "    </script>\n",
              "  </div>\n",
              "\n",
              "\n",
              "<div id=\"df-4f8c519a-dee0-4d3e-b21e-48f3b74b57ca\">\n",
              "  <button class=\"colab-df-quickchart\" onclick=\"quickchart('df-4f8c519a-dee0-4d3e-b21e-48f3b74b57ca')\"\n",
              "            title=\"Suggest charts\"\n",
              "            style=\"display:none;\">\n",
              "\n",
              "<svg xmlns=\"http://www.w3.org/2000/svg\" height=\"24px\"viewBox=\"0 0 24 24\"\n",
              "     width=\"24px\">\n",
              "    <g>\n",
              "        <path d=\"M19 3H5c-1.1 0-2 .9-2 2v14c0 1.1.9 2 2 2h14c1.1 0 2-.9 2-2V5c0-1.1-.9-2-2-2zM9 17H7v-7h2v7zm4 0h-2V7h2v10zm4 0h-2v-4h2v4z\"/>\n",
              "    </g>\n",
              "</svg>\n",
              "  </button>\n",
              "\n",
              "<style>\n",
              "  .colab-df-quickchart {\n",
              "      --bg-color: #E8F0FE;\n",
              "      --fill-color: #1967D2;\n",
              "      --hover-bg-color: #E2EBFA;\n",
              "      --hover-fill-color: #174EA6;\n",
              "      --disabled-fill-color: #AAA;\n",
              "      --disabled-bg-color: #DDD;\n",
              "  }\n",
              "\n",
              "  [theme=dark] .colab-df-quickchart {\n",
              "      --bg-color: #3B4455;\n",
              "      --fill-color: #D2E3FC;\n",
              "      --hover-bg-color: #434B5C;\n",
              "      --hover-fill-color: #FFFFFF;\n",
              "      --disabled-bg-color: #3B4455;\n",
              "      --disabled-fill-color: #666;\n",
              "  }\n",
              "\n",
              "  .colab-df-quickchart {\n",
              "    background-color: var(--bg-color);\n",
              "    border: none;\n",
              "    border-radius: 50%;\n",
              "    cursor: pointer;\n",
              "    display: none;\n",
              "    fill: var(--fill-color);\n",
              "    height: 32px;\n",
              "    padding: 0;\n",
              "    width: 32px;\n",
              "  }\n",
              "\n",
              "  .colab-df-quickchart:hover {\n",
              "    background-color: var(--hover-bg-color);\n",
              "    box-shadow: 0 1px 2px rgba(60, 64, 67, 0.3), 0 1px 3px 1px rgba(60, 64, 67, 0.15);\n",
              "    fill: var(--button-hover-fill-color);\n",
              "  }\n",
              "\n",
              "  .colab-df-quickchart-complete:disabled,\n",
              "  .colab-df-quickchart-complete:disabled:hover {\n",
              "    background-color: var(--disabled-bg-color);\n",
              "    fill: var(--disabled-fill-color);\n",
              "    box-shadow: none;\n",
              "  }\n",
              "\n",
              "  .colab-df-spinner {\n",
              "    border: 2px solid var(--fill-color);\n",
              "    border-color: transparent;\n",
              "    border-bottom-color: var(--fill-color);\n",
              "    animation:\n",
              "      spin 1s steps(1) infinite;\n",
              "  }\n",
              "\n",
              "  @keyframes spin {\n",
              "    0% {\n",
              "      border-color: transparent;\n",
              "      border-bottom-color: var(--fill-color);\n",
              "      border-left-color: var(--fill-color);\n",
              "    }\n",
              "    20% {\n",
              "      border-color: transparent;\n",
              "      border-left-color: var(--fill-color);\n",
              "      border-top-color: var(--fill-color);\n",
              "    }\n",
              "    30% {\n",
              "      border-color: transparent;\n",
              "      border-left-color: var(--fill-color);\n",
              "      border-top-color: var(--fill-color);\n",
              "      border-right-color: var(--fill-color);\n",
              "    }\n",
              "    40% {\n",
              "      border-color: transparent;\n",
              "      border-right-color: var(--fill-color);\n",
              "      border-top-color: var(--fill-color);\n",
              "    }\n",
              "    60% {\n",
              "      border-color: transparent;\n",
              "      border-right-color: var(--fill-color);\n",
              "    }\n",
              "    80% {\n",
              "      border-color: transparent;\n",
              "      border-right-color: var(--fill-color);\n",
              "      border-bottom-color: var(--fill-color);\n",
              "    }\n",
              "    90% {\n",
              "      border-color: transparent;\n",
              "      border-bottom-color: var(--fill-color);\n",
              "    }\n",
              "  }\n",
              "</style>\n",
              "\n",
              "  <script>\n",
              "    async function quickchart(key) {\n",
              "      const quickchartButtonEl =\n",
              "        document.querySelector('#' + key + ' button');\n",
              "      quickchartButtonEl.disabled = true;  // To prevent multiple clicks.\n",
              "      quickchartButtonEl.classList.add('colab-df-spinner');\n",
              "      try {\n",
              "        const charts = await google.colab.kernel.invokeFunction(\n",
              "            'suggestCharts', [key], {});\n",
              "      } catch (error) {\n",
              "        console.error('Error during call to suggestCharts:', error);\n",
              "      }\n",
              "      quickchartButtonEl.classList.remove('colab-df-spinner');\n",
              "      quickchartButtonEl.classList.add('colab-df-quickchart-complete');\n",
              "    }\n",
              "    (() => {\n",
              "      let quickchartButtonEl =\n",
              "        document.querySelector('#df-4f8c519a-dee0-4d3e-b21e-48f3b74b57ca button');\n",
              "      quickchartButtonEl.style.display =\n",
              "        google.colab.kernel.accessAllowed ? 'block' : 'none';\n",
              "    })();\n",
              "  </script>\n",
              "</div>\n",
              "    </div>\n",
              "  </div>\n"
            ],
            "application/vnd.google.colaboratory.intrinsic+json": {
              "type": "dataframe",
              "variable_name": "user_data"
            }
          },
          "metadata": {},
          "execution_count": 6
        }
      ]
    },
    {
      "cell_type": "code",
      "source": [
        "# Filtering based on User\n",
        "print(\"Original Data:\",data.shape[0])\n",
        "print(\"Unique Users:\",user_data.shape[0])\n",
        "user_review_threshold = 20 # Review Count Threshold\n",
        "filtered_user_ids = user_data[user_data.review_count >= user_review_threshold]['user_id']\n",
        "print(\"Filtered Users:\",len(filtered_user_ids))\n",
        "\n",
        "filtered_data = data[data.user_id.isin(filtered_user_ids)]\n",
        "print(\"Filterd Data:\",filtered_data.shape[0])"
      ],
      "metadata": {
        "colab": {
          "base_uri": "https://localhost:8080/"
        },
        "id": "Q0Lqeh5uMiyN",
        "outputId": "9a072baf-f74b-437e-86e6-4ee2f283bee1"
      },
      "execution_count": null,
      "outputs": [
        {
          "output_type": "stream",
          "name": "stdout",
          "text": [
            "Original Data: 967327\n",
            "Unique Users: 279827\n",
            "Filtered Users: 6395\n",
            "Filterd Data: 339222\n"
          ]
        }
      ]
    },
    {
      "cell_type": "code",
      "source": [
        "# Filtering User Reviews\n",
        "\n",
        "user_review_threshold = 500\n",
        "\n",
        "lv2_filtered_df = pd.DataFrame(columns=filtered_data.columns)\n",
        "for user_id, user_df in tqdm(filtered_data.groupby('user_id')):\n",
        "  sample_count = min(user_df.shape[0], user_review_threshold)\n",
        "  sampled_df = user_df.sample(n=sample_count)\n",
        "  lv2_filtered_df = pd.concat([lv2_filtered_df, sampled_df])\n",
        "\n",
        "print(lv2_filtered_df.shape)"
      ],
      "metadata": {
        "colab": {
          "base_uri": "https://localhost:8080/"
        },
        "id": "ZoKCPs5dQ_bI",
        "outputId": "c9b58ea6-defe-459e-bc3f-a71426b8e3d2"
      },
      "execution_count": null,
      "outputs": [
        {
          "output_type": "stream",
          "name": "stderr",
          "text": [
            "100%|██████████| 6395/6395 [21:12<00:00,  5.03it/s]"
          ]
        },
        {
          "output_type": "stream",
          "name": "stdout",
          "text": [
            "(336389, 22)\n"
          ]
        },
        {
          "output_type": "stream",
          "name": "stderr",
          "text": [
            "\n"
          ]
        }
      ]
    },
    {
      "cell_type": "code",
      "source": [
        "print(lv2_filtered_df.shape)"
      ],
      "metadata": {
        "colab": {
          "base_uri": "https://localhost:8080/"
        },
        "id": "UCrhm2AVYKPt",
        "outputId": "aebf2ac3-d620-4606-de6b-5ab2e04e7321"
      },
      "execution_count": null,
      "outputs": [
        {
          "output_type": "stream",
          "name": "stdout",
          "text": [
            "(336389, 22)\n"
          ]
        }
      ]
    },
    {
      "cell_type": "code",
      "source": [
        "lv2_filtered_df.to_json(os.path.join(data_dir, 'filtered_small_df_v1.json'))"
      ],
      "metadata": {
        "id": "kt4IeHg1R3ci"
      },
      "execution_count": null,
      "outputs": []
    },
    {
      "cell_type": "code",
      "source": [
        "lv2_filtered_df = pd.read_json(os.path.join(data_dir, 'filtered_small_df_v1.json'))"
      ],
      "metadata": {
        "id": "M0Ws1KE0bS07"
      },
      "execution_count": 7,
      "outputs": []
    },
    {
      "cell_type": "code",
      "source": [
        "cols_to_use = ['user_id', 'business_id', 'text', 'stars_y']\n",
        "\n",
        "restaurant_reviews = lv2_filtered_df[cols_to_use]\n",
        "\n",
        "restaurant_reviews.rename(columns={'stars_y' : 'rating'}, inplace=True)"
      ],
      "metadata": {
        "id": "ULQrD7z8Fv8x"
      },
      "execution_count": 8,
      "outputs": []
    },
    {
      "cell_type": "code",
      "source": [
        "restaurant_reviews.head(2)"
      ],
      "metadata": {
        "colab": {
          "base_uri": "https://localhost:8080/",
          "height": 112
        },
        "id": "3CGBiXQjFxk4",
        "outputId": "0d915a7d-e8e9-4212-ec30-dbb9d343b72a"
      },
      "execution_count": 9,
      "outputs": [
        {
          "output_type": "execute_result",
          "data": {
            "text/plain": [
              "                       user_id             business_id  \\\n",
              "198656  -1MF2tosrw2WcCxeVNk81Q  EJ7Tp_KdGx52wSu0_7gbEQ   \n",
              "828838  -1MF2tosrw2WcCxeVNk81Q  qFwKNXKt2fvCatrLAqDONg   \n",
              "\n",
              "                                                     text  rating  \n",
              "198656  Went to see Shen Yun which left me in awe of w...     2.5  \n",
              "828838  Piece of junk restaurant. The whole point of t...     2.0  "
            ],
            "text/html": [
              "\n",
              "  <div id=\"df-248fde4d-c3be-4089-a1c3-9e242867e51a\" class=\"colab-df-container\">\n",
              "    <div>\n",
              "<style scoped>\n",
              "    .dataframe tbody tr th:only-of-type {\n",
              "        vertical-align: middle;\n",
              "    }\n",
              "\n",
              "    .dataframe tbody tr th {\n",
              "        vertical-align: top;\n",
              "    }\n",
              "\n",
              "    .dataframe thead th {\n",
              "        text-align: right;\n",
              "    }\n",
              "</style>\n",
              "<table border=\"1\" class=\"dataframe\">\n",
              "  <thead>\n",
              "    <tr style=\"text-align: right;\">\n",
              "      <th></th>\n",
              "      <th>user_id</th>\n",
              "      <th>business_id</th>\n",
              "      <th>text</th>\n",
              "      <th>rating</th>\n",
              "    </tr>\n",
              "  </thead>\n",
              "  <tbody>\n",
              "    <tr>\n",
              "      <th>198656</th>\n",
              "      <td>-1MF2tosrw2WcCxeVNk81Q</td>\n",
              "      <td>EJ7Tp_KdGx52wSu0_7gbEQ</td>\n",
              "      <td>Went to see Shen Yun which left me in awe of w...</td>\n",
              "      <td>2.5</td>\n",
              "    </tr>\n",
              "    <tr>\n",
              "      <th>828838</th>\n",
              "      <td>-1MF2tosrw2WcCxeVNk81Q</td>\n",
              "      <td>qFwKNXKt2fvCatrLAqDONg</td>\n",
              "      <td>Piece of junk restaurant. The whole point of t...</td>\n",
              "      <td>2.0</td>\n",
              "    </tr>\n",
              "  </tbody>\n",
              "</table>\n",
              "</div>\n",
              "    <div class=\"colab-df-buttons\">\n",
              "\n",
              "  <div class=\"colab-df-container\">\n",
              "    <button class=\"colab-df-convert\" onclick=\"convertToInteractive('df-248fde4d-c3be-4089-a1c3-9e242867e51a')\"\n",
              "            title=\"Convert this dataframe to an interactive table.\"\n",
              "            style=\"display:none;\">\n",
              "\n",
              "  <svg xmlns=\"http://www.w3.org/2000/svg\" height=\"24px\" viewBox=\"0 -960 960 960\">\n",
              "    <path d=\"M120-120v-720h720v720H120Zm60-500h600v-160H180v160Zm220 220h160v-160H400v160Zm0 220h160v-160H400v160ZM180-400h160v-160H180v160Zm440 0h160v-160H620v160ZM180-180h160v-160H180v160Zm440 0h160v-160H620v160Z\"/>\n",
              "  </svg>\n",
              "    </button>\n",
              "\n",
              "  <style>\n",
              "    .colab-df-container {\n",
              "      display:flex;\n",
              "      gap: 12px;\n",
              "    }\n",
              "\n",
              "    .colab-df-convert {\n",
              "      background-color: #E8F0FE;\n",
              "      border: none;\n",
              "      border-radius: 50%;\n",
              "      cursor: pointer;\n",
              "      display: none;\n",
              "      fill: #1967D2;\n",
              "      height: 32px;\n",
              "      padding: 0 0 0 0;\n",
              "      width: 32px;\n",
              "    }\n",
              "\n",
              "    .colab-df-convert:hover {\n",
              "      background-color: #E2EBFA;\n",
              "      box-shadow: 0px 1px 2px rgba(60, 64, 67, 0.3), 0px 1px 3px 1px rgba(60, 64, 67, 0.15);\n",
              "      fill: #174EA6;\n",
              "    }\n",
              "\n",
              "    .colab-df-buttons div {\n",
              "      margin-bottom: 4px;\n",
              "    }\n",
              "\n",
              "    [theme=dark] .colab-df-convert {\n",
              "      background-color: #3B4455;\n",
              "      fill: #D2E3FC;\n",
              "    }\n",
              "\n",
              "    [theme=dark] .colab-df-convert:hover {\n",
              "      background-color: #434B5C;\n",
              "      box-shadow: 0px 1px 3px 1px rgba(0, 0, 0, 0.15);\n",
              "      filter: drop-shadow(0px 1px 2px rgba(0, 0, 0, 0.3));\n",
              "      fill: #FFFFFF;\n",
              "    }\n",
              "  </style>\n",
              "\n",
              "    <script>\n",
              "      const buttonEl =\n",
              "        document.querySelector('#df-248fde4d-c3be-4089-a1c3-9e242867e51a button.colab-df-convert');\n",
              "      buttonEl.style.display =\n",
              "        google.colab.kernel.accessAllowed ? 'block' : 'none';\n",
              "\n",
              "      async function convertToInteractive(key) {\n",
              "        const element = document.querySelector('#df-248fde4d-c3be-4089-a1c3-9e242867e51a');\n",
              "        const dataTable =\n",
              "          await google.colab.kernel.invokeFunction('convertToInteractive',\n",
              "                                                    [key], {});\n",
              "        if (!dataTable) return;\n",
              "\n",
              "        const docLinkHtml = 'Like what you see? Visit the ' +\n",
              "          '<a target=\"_blank\" href=https://colab.research.google.com/notebooks/data_table.ipynb>data table notebook</a>'\n",
              "          + ' to learn more about interactive tables.';\n",
              "        element.innerHTML = '';\n",
              "        dataTable['output_type'] = 'display_data';\n",
              "        await google.colab.output.renderOutput(dataTable, element);\n",
              "        const docLink = document.createElement('div');\n",
              "        docLink.innerHTML = docLinkHtml;\n",
              "        element.appendChild(docLink);\n",
              "      }\n",
              "    </script>\n",
              "  </div>\n",
              "\n",
              "\n",
              "<div id=\"df-a716cea4-e4f5-4623-b9d0-051b3242de6e\">\n",
              "  <button class=\"colab-df-quickchart\" onclick=\"quickchart('df-a716cea4-e4f5-4623-b9d0-051b3242de6e')\"\n",
              "            title=\"Suggest charts\"\n",
              "            style=\"display:none;\">\n",
              "\n",
              "<svg xmlns=\"http://www.w3.org/2000/svg\" height=\"24px\"viewBox=\"0 0 24 24\"\n",
              "     width=\"24px\">\n",
              "    <g>\n",
              "        <path d=\"M19 3H5c-1.1 0-2 .9-2 2v14c0 1.1.9 2 2 2h14c1.1 0 2-.9 2-2V5c0-1.1-.9-2-2-2zM9 17H7v-7h2v7zm4 0h-2V7h2v10zm4 0h-2v-4h2v4z\"/>\n",
              "    </g>\n",
              "</svg>\n",
              "  </button>\n",
              "\n",
              "<style>\n",
              "  .colab-df-quickchart {\n",
              "      --bg-color: #E8F0FE;\n",
              "      --fill-color: #1967D2;\n",
              "      --hover-bg-color: #E2EBFA;\n",
              "      --hover-fill-color: #174EA6;\n",
              "      --disabled-fill-color: #AAA;\n",
              "      --disabled-bg-color: #DDD;\n",
              "  }\n",
              "\n",
              "  [theme=dark] .colab-df-quickchart {\n",
              "      --bg-color: #3B4455;\n",
              "      --fill-color: #D2E3FC;\n",
              "      --hover-bg-color: #434B5C;\n",
              "      --hover-fill-color: #FFFFFF;\n",
              "      --disabled-bg-color: #3B4455;\n",
              "      --disabled-fill-color: #666;\n",
              "  }\n",
              "\n",
              "  .colab-df-quickchart {\n",
              "    background-color: var(--bg-color);\n",
              "    border: none;\n",
              "    border-radius: 50%;\n",
              "    cursor: pointer;\n",
              "    display: none;\n",
              "    fill: var(--fill-color);\n",
              "    height: 32px;\n",
              "    padding: 0;\n",
              "    width: 32px;\n",
              "  }\n",
              "\n",
              "  .colab-df-quickchart:hover {\n",
              "    background-color: var(--hover-bg-color);\n",
              "    box-shadow: 0 1px 2px rgba(60, 64, 67, 0.3), 0 1px 3px 1px rgba(60, 64, 67, 0.15);\n",
              "    fill: var(--button-hover-fill-color);\n",
              "  }\n",
              "\n",
              "  .colab-df-quickchart-complete:disabled,\n",
              "  .colab-df-quickchart-complete:disabled:hover {\n",
              "    background-color: var(--disabled-bg-color);\n",
              "    fill: var(--disabled-fill-color);\n",
              "    box-shadow: none;\n",
              "  }\n",
              "\n",
              "  .colab-df-spinner {\n",
              "    border: 2px solid var(--fill-color);\n",
              "    border-color: transparent;\n",
              "    border-bottom-color: var(--fill-color);\n",
              "    animation:\n",
              "      spin 1s steps(1) infinite;\n",
              "  }\n",
              "\n",
              "  @keyframes spin {\n",
              "    0% {\n",
              "      border-color: transparent;\n",
              "      border-bottom-color: var(--fill-color);\n",
              "      border-left-color: var(--fill-color);\n",
              "    }\n",
              "    20% {\n",
              "      border-color: transparent;\n",
              "      border-left-color: var(--fill-color);\n",
              "      border-top-color: var(--fill-color);\n",
              "    }\n",
              "    30% {\n",
              "      border-color: transparent;\n",
              "      border-left-color: var(--fill-color);\n",
              "      border-top-color: var(--fill-color);\n",
              "      border-right-color: var(--fill-color);\n",
              "    }\n",
              "    40% {\n",
              "      border-color: transparent;\n",
              "      border-right-color: var(--fill-color);\n",
              "      border-top-color: var(--fill-color);\n",
              "    }\n",
              "    60% {\n",
              "      border-color: transparent;\n",
              "      border-right-color: var(--fill-color);\n",
              "    }\n",
              "    80% {\n",
              "      border-color: transparent;\n",
              "      border-right-color: var(--fill-color);\n",
              "      border-bottom-color: var(--fill-color);\n",
              "    }\n",
              "    90% {\n",
              "      border-color: transparent;\n",
              "      border-bottom-color: var(--fill-color);\n",
              "    }\n",
              "  }\n",
              "</style>\n",
              "\n",
              "  <script>\n",
              "    async function quickchart(key) {\n",
              "      const quickchartButtonEl =\n",
              "        document.querySelector('#' + key + ' button');\n",
              "      quickchartButtonEl.disabled = true;  // To prevent multiple clicks.\n",
              "      quickchartButtonEl.classList.add('colab-df-spinner');\n",
              "      try {\n",
              "        const charts = await google.colab.kernel.invokeFunction(\n",
              "            'suggestCharts', [key], {});\n",
              "      } catch (error) {\n",
              "        console.error('Error during call to suggestCharts:', error);\n",
              "      }\n",
              "      quickchartButtonEl.classList.remove('colab-df-spinner');\n",
              "      quickchartButtonEl.classList.add('colab-df-quickchart-complete');\n",
              "    }\n",
              "    (() => {\n",
              "      let quickchartButtonEl =\n",
              "        document.querySelector('#df-a716cea4-e4f5-4623-b9d0-051b3242de6e button');\n",
              "      quickchartButtonEl.style.display =\n",
              "        google.colab.kernel.accessAllowed ? 'block' : 'none';\n",
              "    })();\n",
              "  </script>\n",
              "</div>\n",
              "    </div>\n",
              "  </div>\n"
            ],
            "application/vnd.google.colaboratory.intrinsic+json": {
              "type": "dataframe",
              "variable_name": "restaurant_reviews"
            }
          },
          "metadata": {},
          "execution_count": 9
        }
      ]
    },
    {
      "cell_type": "code",
      "source": [
        "restaurant_reviews.rating.max()"
      ],
      "metadata": {
        "colab": {
          "base_uri": "https://localhost:8080/"
        },
        "id": "2YiG-Vg0YjKR",
        "outputId": "ab0cc240-3eae-48b4-af2c-220d0fa5fe59"
      },
      "execution_count": 10,
      "outputs": [
        {
          "output_type": "execute_result",
          "data": {
            "text/plain": [
              "5.0"
            ]
          },
          "metadata": {},
          "execution_count": 10
        }
      ]
    },
    {
      "cell_type": "code",
      "source": [
        "def clean_text(text):\n",
        "    # Remove special characters and digits\n",
        "    text = re.sub(r'[^a-zA-Z\\s]', '', text, re.I|re.A)\n",
        "    # Remove digits\n",
        "    text = re.sub(r'\\d', '', text)\n",
        "    # Convert to lowercase\n",
        "    text = text.lower()\n",
        "    # Remove extra spaces\n",
        "    text = text.strip()\n",
        "    return text\n",
        "\n",
        "def tokenize_text(text):\n",
        "    return word_tokenize(text)\n",
        "\n",
        "def process_reviews(document):\n",
        "    cleaned_text = tokenize_text(clean_text(document))\n",
        "    cleaned_text = ' '.join(cleaned_text)\n",
        "    cleaned_text = cleaned_text.strip()\n",
        "    return cleaned_text"
      ],
      "metadata": {
        "id": "tGIHvt9VFzG7"
      },
      "execution_count": null,
      "outputs": []
    },
    {
      "cell_type": "code",
      "source": [
        "# Applying Text Cleaning to all data ! Will be useful for creating user profiles\n",
        "restaurant_reviews['processed_text'] = restaurant_reviews['text'].apply(lambda x : process_reviews(x))\n",
        "restaurant_reviews.head()"
      ],
      "metadata": {
        "colab": {
          "base_uri": "https://localhost:8080/",
          "height": 206
        },
        "id": "_aRPqoAhF2YO",
        "outputId": "bb914257-79e8-4913-b16d-2514273c4c2b"
      },
      "execution_count": null,
      "outputs": [
        {
          "output_type": "execute_result",
          "data": {
            "text/plain": [
              "                       user_id             business_id  \\\n",
              "198656  -1MF2tosrw2WcCxeVNk81Q  EJ7Tp_KdGx52wSu0_7gbEQ   \n",
              "828838  -1MF2tosrw2WcCxeVNk81Q  qFwKNXKt2fvCatrLAqDONg   \n",
              "781878  -1MF2tosrw2WcCxeVNk81Q  A4CPH0tLHOrtoTVNQcJSRQ   \n",
              "918436  -1MF2tosrw2WcCxeVNk81Q  owwOC1bVQt1XAMdiM1TOzw   \n",
              "507130  -1MF2tosrw2WcCxeVNk81Q  838bEDzZSPveDkAGrhVWYQ   \n",
              "\n",
              "                                                     text  rating  \\\n",
              "198656  Went to see Shen Yun which left me in awe of w...     2.5   \n",
              "828838  Piece of junk restaurant. The whole point of t...     2.0   \n",
              "781878  This place is far inferior compared to Hong Ko...     2.5   \n",
              "918436  For an airport cafe, this place is pretty dece...     2.0   \n",
              "507130  Absolutely amazing and authentic Chinese/Hong ...     3.0   \n",
              "\n",
              "                                           processed_text  \n",
              "198656  went to see shen yun which left me in awe of w...  \n",
              "828838  piece of junk restaurant the whole point of th...  \n",
              "781878  this place is far inferior compared to hong ko...  \n",
              "918436  for an airport cafe this place is pretty decen...  \n",
              "507130  absolutely amazing and authentic chinesehong k...  "
            ],
            "text/html": [
              "\n",
              "  <div id=\"df-b03ed20e-088d-463c-8129-1efdd9d77db1\" class=\"colab-df-container\">\n",
              "    <div>\n",
              "<style scoped>\n",
              "    .dataframe tbody tr th:only-of-type {\n",
              "        vertical-align: middle;\n",
              "    }\n",
              "\n",
              "    .dataframe tbody tr th {\n",
              "        vertical-align: top;\n",
              "    }\n",
              "\n",
              "    .dataframe thead th {\n",
              "        text-align: right;\n",
              "    }\n",
              "</style>\n",
              "<table border=\"1\" class=\"dataframe\">\n",
              "  <thead>\n",
              "    <tr style=\"text-align: right;\">\n",
              "      <th></th>\n",
              "      <th>user_id</th>\n",
              "      <th>business_id</th>\n",
              "      <th>text</th>\n",
              "      <th>rating</th>\n",
              "      <th>processed_text</th>\n",
              "    </tr>\n",
              "  </thead>\n",
              "  <tbody>\n",
              "    <tr>\n",
              "      <th>198656</th>\n",
              "      <td>-1MF2tosrw2WcCxeVNk81Q</td>\n",
              "      <td>EJ7Tp_KdGx52wSu0_7gbEQ</td>\n",
              "      <td>Went to see Shen Yun which left me in awe of w...</td>\n",
              "      <td>2.5</td>\n",
              "      <td>went to see shen yun which left me in awe of w...</td>\n",
              "    </tr>\n",
              "    <tr>\n",
              "      <th>828838</th>\n",
              "      <td>-1MF2tosrw2WcCxeVNk81Q</td>\n",
              "      <td>qFwKNXKt2fvCatrLAqDONg</td>\n",
              "      <td>Piece of junk restaurant. The whole point of t...</td>\n",
              "      <td>2.0</td>\n",
              "      <td>piece of junk restaurant the whole point of th...</td>\n",
              "    </tr>\n",
              "    <tr>\n",
              "      <th>781878</th>\n",
              "      <td>-1MF2tosrw2WcCxeVNk81Q</td>\n",
              "      <td>A4CPH0tLHOrtoTVNQcJSRQ</td>\n",
              "      <td>This place is far inferior compared to Hong Ko...</td>\n",
              "      <td>2.5</td>\n",
              "      <td>this place is far inferior compared to hong ko...</td>\n",
              "    </tr>\n",
              "    <tr>\n",
              "      <th>918436</th>\n",
              "      <td>-1MF2tosrw2WcCxeVNk81Q</td>\n",
              "      <td>owwOC1bVQt1XAMdiM1TOzw</td>\n",
              "      <td>For an airport cafe, this place is pretty dece...</td>\n",
              "      <td>2.0</td>\n",
              "      <td>for an airport cafe this place is pretty decen...</td>\n",
              "    </tr>\n",
              "    <tr>\n",
              "      <th>507130</th>\n",
              "      <td>-1MF2tosrw2WcCxeVNk81Q</td>\n",
              "      <td>838bEDzZSPveDkAGrhVWYQ</td>\n",
              "      <td>Absolutely amazing and authentic Chinese/Hong ...</td>\n",
              "      <td>3.0</td>\n",
              "      <td>absolutely amazing and authentic chinesehong k...</td>\n",
              "    </tr>\n",
              "  </tbody>\n",
              "</table>\n",
              "</div>\n",
              "    <div class=\"colab-df-buttons\">\n",
              "\n",
              "  <div class=\"colab-df-container\">\n",
              "    <button class=\"colab-df-convert\" onclick=\"convertToInteractive('df-b03ed20e-088d-463c-8129-1efdd9d77db1')\"\n",
              "            title=\"Convert this dataframe to an interactive table.\"\n",
              "            style=\"display:none;\">\n",
              "\n",
              "  <svg xmlns=\"http://www.w3.org/2000/svg\" height=\"24px\" viewBox=\"0 -960 960 960\">\n",
              "    <path d=\"M120-120v-720h720v720H120Zm60-500h600v-160H180v160Zm220 220h160v-160H400v160Zm0 220h160v-160H400v160ZM180-400h160v-160H180v160Zm440 0h160v-160H620v160ZM180-180h160v-160H180v160Zm440 0h160v-160H620v160Z\"/>\n",
              "  </svg>\n",
              "    </button>\n",
              "\n",
              "  <style>\n",
              "    .colab-df-container {\n",
              "      display:flex;\n",
              "      gap: 12px;\n",
              "    }\n",
              "\n",
              "    .colab-df-convert {\n",
              "      background-color: #E8F0FE;\n",
              "      border: none;\n",
              "      border-radius: 50%;\n",
              "      cursor: pointer;\n",
              "      display: none;\n",
              "      fill: #1967D2;\n",
              "      height: 32px;\n",
              "      padding: 0 0 0 0;\n",
              "      width: 32px;\n",
              "    }\n",
              "\n",
              "    .colab-df-convert:hover {\n",
              "      background-color: #E2EBFA;\n",
              "      box-shadow: 0px 1px 2px rgba(60, 64, 67, 0.3), 0px 1px 3px 1px rgba(60, 64, 67, 0.15);\n",
              "      fill: #174EA6;\n",
              "    }\n",
              "\n",
              "    .colab-df-buttons div {\n",
              "      margin-bottom: 4px;\n",
              "    }\n",
              "\n",
              "    [theme=dark] .colab-df-convert {\n",
              "      background-color: #3B4455;\n",
              "      fill: #D2E3FC;\n",
              "    }\n",
              "\n",
              "    [theme=dark] .colab-df-convert:hover {\n",
              "      background-color: #434B5C;\n",
              "      box-shadow: 0px 1px 3px 1px rgba(0, 0, 0, 0.15);\n",
              "      filter: drop-shadow(0px 1px 2px rgba(0, 0, 0, 0.3));\n",
              "      fill: #FFFFFF;\n",
              "    }\n",
              "  </style>\n",
              "\n",
              "    <script>\n",
              "      const buttonEl =\n",
              "        document.querySelector('#df-b03ed20e-088d-463c-8129-1efdd9d77db1 button.colab-df-convert');\n",
              "      buttonEl.style.display =\n",
              "        google.colab.kernel.accessAllowed ? 'block' : 'none';\n",
              "\n",
              "      async function convertToInteractive(key) {\n",
              "        const element = document.querySelector('#df-b03ed20e-088d-463c-8129-1efdd9d77db1');\n",
              "        const dataTable =\n",
              "          await google.colab.kernel.invokeFunction('convertToInteractive',\n",
              "                                                    [key], {});\n",
              "        if (!dataTable) return;\n",
              "\n",
              "        const docLinkHtml = 'Like what you see? Visit the ' +\n",
              "          '<a target=\"_blank\" href=https://colab.research.google.com/notebooks/data_table.ipynb>data table notebook</a>'\n",
              "          + ' to learn more about interactive tables.';\n",
              "        element.innerHTML = '';\n",
              "        dataTable['output_type'] = 'display_data';\n",
              "        await google.colab.output.renderOutput(dataTable, element);\n",
              "        const docLink = document.createElement('div');\n",
              "        docLink.innerHTML = docLinkHtml;\n",
              "        element.appendChild(docLink);\n",
              "      }\n",
              "    </script>\n",
              "  </div>\n",
              "\n",
              "\n",
              "<div id=\"df-463eff31-ed4d-4b1c-bd89-a135e73ec59d\">\n",
              "  <button class=\"colab-df-quickchart\" onclick=\"quickchart('df-463eff31-ed4d-4b1c-bd89-a135e73ec59d')\"\n",
              "            title=\"Suggest charts\"\n",
              "            style=\"display:none;\">\n",
              "\n",
              "<svg xmlns=\"http://www.w3.org/2000/svg\" height=\"24px\"viewBox=\"0 0 24 24\"\n",
              "     width=\"24px\">\n",
              "    <g>\n",
              "        <path d=\"M19 3H5c-1.1 0-2 .9-2 2v14c0 1.1.9 2 2 2h14c1.1 0 2-.9 2-2V5c0-1.1-.9-2-2-2zM9 17H7v-7h2v7zm4 0h-2V7h2v10zm4 0h-2v-4h2v4z\"/>\n",
              "    </g>\n",
              "</svg>\n",
              "  </button>\n",
              "\n",
              "<style>\n",
              "  .colab-df-quickchart {\n",
              "      --bg-color: #E8F0FE;\n",
              "      --fill-color: #1967D2;\n",
              "      --hover-bg-color: #E2EBFA;\n",
              "      --hover-fill-color: #174EA6;\n",
              "      --disabled-fill-color: #AAA;\n",
              "      --disabled-bg-color: #DDD;\n",
              "  }\n",
              "\n",
              "  [theme=dark] .colab-df-quickchart {\n",
              "      --bg-color: #3B4455;\n",
              "      --fill-color: #D2E3FC;\n",
              "      --hover-bg-color: #434B5C;\n",
              "      --hover-fill-color: #FFFFFF;\n",
              "      --disabled-bg-color: #3B4455;\n",
              "      --disabled-fill-color: #666;\n",
              "  }\n",
              "\n",
              "  .colab-df-quickchart {\n",
              "    background-color: var(--bg-color);\n",
              "    border: none;\n",
              "    border-radius: 50%;\n",
              "    cursor: pointer;\n",
              "    display: none;\n",
              "    fill: var(--fill-color);\n",
              "    height: 32px;\n",
              "    padding: 0;\n",
              "    width: 32px;\n",
              "  }\n",
              "\n",
              "  .colab-df-quickchart:hover {\n",
              "    background-color: var(--hover-bg-color);\n",
              "    box-shadow: 0 1px 2px rgba(60, 64, 67, 0.3), 0 1px 3px 1px rgba(60, 64, 67, 0.15);\n",
              "    fill: var(--button-hover-fill-color);\n",
              "  }\n",
              "\n",
              "  .colab-df-quickchart-complete:disabled,\n",
              "  .colab-df-quickchart-complete:disabled:hover {\n",
              "    background-color: var(--disabled-bg-color);\n",
              "    fill: var(--disabled-fill-color);\n",
              "    box-shadow: none;\n",
              "  }\n",
              "\n",
              "  .colab-df-spinner {\n",
              "    border: 2px solid var(--fill-color);\n",
              "    border-color: transparent;\n",
              "    border-bottom-color: var(--fill-color);\n",
              "    animation:\n",
              "      spin 1s steps(1) infinite;\n",
              "  }\n",
              "\n",
              "  @keyframes spin {\n",
              "    0% {\n",
              "      border-color: transparent;\n",
              "      border-bottom-color: var(--fill-color);\n",
              "      border-left-color: var(--fill-color);\n",
              "    }\n",
              "    20% {\n",
              "      border-color: transparent;\n",
              "      border-left-color: var(--fill-color);\n",
              "      border-top-color: var(--fill-color);\n",
              "    }\n",
              "    30% {\n",
              "      border-color: transparent;\n",
              "      border-left-color: var(--fill-color);\n",
              "      border-top-color: var(--fill-color);\n",
              "      border-right-color: var(--fill-color);\n",
              "    }\n",
              "    40% {\n",
              "      border-color: transparent;\n",
              "      border-right-color: var(--fill-color);\n",
              "      border-top-color: var(--fill-color);\n",
              "    }\n",
              "    60% {\n",
              "      border-color: transparent;\n",
              "      border-right-color: var(--fill-color);\n",
              "    }\n",
              "    80% {\n",
              "      border-color: transparent;\n",
              "      border-right-color: var(--fill-color);\n",
              "      border-bottom-color: var(--fill-color);\n",
              "    }\n",
              "    90% {\n",
              "      border-color: transparent;\n",
              "      border-bottom-color: var(--fill-color);\n",
              "    }\n",
              "  }\n",
              "</style>\n",
              "\n",
              "  <script>\n",
              "    async function quickchart(key) {\n",
              "      const quickchartButtonEl =\n",
              "        document.querySelector('#' + key + ' button');\n",
              "      quickchartButtonEl.disabled = true;  // To prevent multiple clicks.\n",
              "      quickchartButtonEl.classList.add('colab-df-spinner');\n",
              "      try {\n",
              "        const charts = await google.colab.kernel.invokeFunction(\n",
              "            'suggestCharts', [key], {});\n",
              "      } catch (error) {\n",
              "        console.error('Error during call to suggestCharts:', error);\n",
              "      }\n",
              "      quickchartButtonEl.classList.remove('colab-df-spinner');\n",
              "      quickchartButtonEl.classList.add('colab-df-quickchart-complete');\n",
              "    }\n",
              "    (() => {\n",
              "      let quickchartButtonEl =\n",
              "        document.querySelector('#df-463eff31-ed4d-4b1c-bd89-a135e73ec59d button');\n",
              "      quickchartButtonEl.style.display =\n",
              "        google.colab.kernel.accessAllowed ? 'block' : 'none';\n",
              "    })();\n",
              "  </script>\n",
              "</div>\n",
              "    </div>\n",
              "  </div>\n"
            ],
            "application/vnd.google.colaboratory.intrinsic+json": {
              "type": "dataframe",
              "variable_name": "restaurant_reviews"
            }
          },
          "metadata": {},
          "execution_count": 22
        }
      ]
    },
    {
      "cell_type": "code",
      "source": [
        "restaurant_reviews.shape[0]"
      ],
      "metadata": {
        "colab": {
          "base_uri": "https://localhost:8080/"
        },
        "id": "YSh1YjPEQiuJ",
        "outputId": "599e0673-2e35-44cd-f762-a722afa92e3d"
      },
      "execution_count": null,
      "outputs": [
        {
          "output_type": "execute_result",
          "data": {
            "text/plain": [
              "336389"
            ]
          },
          "metadata": {},
          "execution_count": 23
        }
      ]
    },
    {
      "cell_type": "code",
      "source": [
        "tfidf_params = {\n",
        "    \"min_df\" : 0.01, # terms that appear in less than 1% of the documents\n",
        "    \"max_features\" : 10000, # keep the most frequent 10000 terms\n",
        "    \"smooth_idf\" : True,    # adds one to document frequencies\n",
        "    \"sublinear_tf\" : True,  # apply sublinear tf scaling\n",
        "    \"norm\" : 'l2',          # L2-normalize vectors\n",
        "    \"use_idf\" : True,       # enable IDF reweighting\n",
        "    \"ngram_range\" : (1, 2)  # include both unigrams and bigrams\n",
        "}\n",
        "tfidf_vectorizer = TfidfVectorizer(**tfidf_params)\n",
        "tfidf_matrix = tfidf_vectorizer.fit_transform(restaurant_reviews['processed_text'])\n",
        "tfidf_matrix.shape"
      ],
      "metadata": {
        "colab": {
          "base_uri": "https://localhost:8080/"
        },
        "id": "U_HGD0okF510",
        "outputId": "3ffe77f2-e9fa-4132-a74b-1dd1a15f3d5e"
      },
      "execution_count": null,
      "outputs": [
        {
          "output_type": "execute_result",
          "data": {
            "text/plain": [
              "(336389, 2211)"
            ]
          },
          "metadata": {},
          "execution_count": 24
        }
      ]
    },
    {
      "cell_type": "code",
      "source": [
        "# Saving TFIDF Matrix\n",
        "#sp.sparse.save_npz(os.path.join(data_dir,'tfidf_matrix_small_v1.npz'), tfidf_matrix)\n",
        "\n",
        "# Sample loading code\n",
        "tfidf_matrix = sp.sparse.load_npz(os.path.join(data_dir,'tfidf_matrix_small_v1.npz'))"
      ],
      "metadata": {
        "id": "6qy7GOWqF8Ia"
      },
      "execution_count": 11,
      "outputs": []
    },
    {
      "cell_type": "code",
      "source": [
        "with open(os.path.join(data_dir,'tfidf_vectorizer_small_v1.pk'), 'wb') as fin:\n",
        "    pickle.dump(tfidf_vectorizer, fin)\n",
        "\n",
        "#tfidf_vectorizer = pickle.load(open(os.path.join(data_dir,'tfidf_vectorizer_v1.pk'), 'rb'))"
      ],
      "metadata": {
        "id": "rG9ilrHCF_5D"
      },
      "execution_count": null,
      "outputs": []
    },
    {
      "cell_type": "code",
      "source": [
        "# Since the matrices are very large in dimension and also sparse in nature , Lets reduce the dimensions using SVD\n",
        "svd = TruncatedSVD(n_components=500)  # Use n-1 components to explore variance\n",
        "tfidf_reducded = svd.fit_transform(tfidf_matrix)\n",
        "\n",
        "# Calculate cumulative explained variance\n",
        "cumulative_explained_variance = np.cumsum(svd.explained_variance_ratio_)\n",
        "\n",
        "# Plot the cumulative explained variance\n",
        "plt.figure(figsize=(10, 6))\n",
        "plt.plot(range(1, len(cumulative_explained_variance) + 1), cumulative_explained_variance, marker='o', linestyle='--')\n",
        "plt.xlabel('Number of Components')\n",
        "plt.ylabel('Cumulative Explained Variance')\n",
        "plt.title('Explained Variance by Components')\n",
        "plt.grid(True)\n",
        "plt.show()"
      ],
      "metadata": {
        "colab": {
          "base_uri": "https://localhost:8080/",
          "height": 564
        },
        "id": "oyRJoYmKGHdd",
        "outputId": "ac211a22-9049-4e63-90f0-441b1ad4f1b4"
      },
      "execution_count": null,
      "outputs": [
        {
          "output_type": "display_data",
          "data": {
            "text/plain": [
              "<Figure size 1000x600 with 1 Axes>"
            ],
            "image/png": "[encoded data removed]"
          },
          "metadata": {}
        }
      ]
    },
    {
      "cell_type": "code",
      "source": [
        "del tfidf_matrix\n",
        "#del data\n",
        "del lv2_filtered_df"
      ],
      "metadata": {
        "id": "LlRH2WVhZp5l"
      },
      "execution_count": 12,
      "outputs": []
    },
    {
      "cell_type": "code",
      "source": [
        "np.save(os.path.join(data_dir,'svd_500_tfidf_matrix_small_v1.npy'), tfidf_reducded)"
      ],
      "metadata": {
        "id": "73fPb8rDGKM8"
      },
      "execution_count": null,
      "outputs": []
    },
    {
      "cell_type": "code",
      "source": [
        "tfidf_reducded = np.load(os.path.join(data_dir,'svd_500_tfidf_matrix_small_v1.npy'))"
      ],
      "metadata": {
        "id": "lF3Oh5OPGOZ-"
      },
      "execution_count": 13,
      "outputs": []
    },
    {
      "cell_type": "code",
      "source": [
        "profile_arr = tfidf_reducded.tolist()"
      ],
      "metadata": {
        "id": "h_KCt_nic5kj"
      },
      "execution_count": 14,
      "outputs": []
    },
    {
      "cell_type": "code",
      "source": [
        "restaurant_reviews['profiles'] = profile_arr"
      ],
      "metadata": {
        "id": "jGQWOtTsdPmH"
      },
      "execution_count": 15,
      "outputs": []
    },
    {
      "cell_type": "code",
      "source": [
        "user_groups = restaurant_reviews.groupby('user_id')\n",
        "user_profiles = {}\n",
        "for usergrp in tqdm(user_groups):\n",
        "    profiles = np.array([np.array(profile) for profile in np.array(usergrp[1]['profiles'])])\n",
        "    mean_profile = np.mean(profiles,axis=0)\n",
        "    user_profiles[usergrp[0]] = mean_profile"
      ],
      "metadata": {
        "colab": {
          "base_uri": "https://localhost:8080/"
        },
        "id": "8z-w8qK6c9qM",
        "outputId": "8051dfa7-dbca-4336-afe0-dda572ff2831"
      },
      "execution_count": 16,
      "outputs": [
        {
          "output_type": "stream",
          "name": "stderr",
          "text": [
            "100%|██████████| 6395/6395 [00:12<00:00, 500.09it/s]\n"
          ]
        }
      ]
    },
    {
      "cell_type": "code",
      "source": [
        "with open(os.path.join(data_dir, 'user_profiles_v1.pkl'), 'wb') as f:\n",
        "  pickle.dump(user_profiles, f)"
      ],
      "metadata": {
        "id": "V4lMf4HGdHv8"
      },
      "execution_count": 17,
      "outputs": []
    },
    {
      "cell_type": "code",
      "source": [
        "item_groups = restaurant_reviews.groupby('business_id')\n",
        "item_profiles = {}\n",
        "for itemrgrp in tqdm(item_groups):\n",
        "    profiles = np.array([np.array(profile) for profile in np.array(itemrgrp[1]['profiles'])])\n",
        "    mean_profile = np.mean(profiles,axis=0)\n",
        "    item_profiles[itemrgrp[0]] = mean_profile"
      ],
      "metadata": {
        "id": "i05MIPGndkH1",
        "colab": {
          "base_uri": "https://localhost:8080/"
        },
        "outputId": "b3116285-a49f-4e0f-ddbc-30804c52e318"
      },
      "execution_count": 18,
      "outputs": [
        {
          "output_type": "stream",
          "name": "stderr",
          "text": [
            "100%|██████████| 13408/13408 [00:17<00:00, 771.23it/s] \n"
          ]
        }
      ]
    },
    {
      "cell_type": "code",
      "source": [
        "with open(os.path.join(data_dir, 'item_profiles_v1.pkl'), 'wb') as f:\n",
        "  pickle.dump(item_profiles, f)"
      ],
      "metadata": {
        "id": "OC97cKcO8MwM"
      },
      "execution_count": 19,
      "outputs": []
    },
    {
      "cell_type": "markdown",
      "source": [
        "## Experiment 1\n",
        "\n",
        "__Splitting Data at Random__"
      ],
      "metadata": {
        "id": "BPHdKLKk82CY"
      }
    },
    {
      "cell_type": "code",
      "source": [
        "def split_randomly(df, split_dict = {'train' : 0.7, 'test' : 0.3}):\n",
        "  df_copy = df.copy()\n",
        "\n",
        "  train_count = int(split_dict['train'] * df_copy.shape[0])\n",
        "  test_count = df_copy.shape[0] - train_count\n",
        "\n",
        "  train_test_list = ['train'] * train_count + ['test'] * test_count\n",
        "  random.shuffle(train_test_list)\n",
        "\n",
        "  df_copy['train_type'] = train_test_list\n",
        "  return df_copy"
      ],
      "metadata": {
        "id": "ERjNM0Jy8YBV"
      },
      "execution_count": 22,
      "outputs": []
    },
    {
      "cell_type": "code",
      "source": [
        "df_random_split = split_randomly(df = restaurant_reviews)\n",
        "df_random_split.head(2)"
      ],
      "metadata": {
        "colab": {
          "base_uri": "https://localhost:8080/",
          "height": 112
        },
        "id": "SKArGV6L8crK",
        "outputId": "162f8f5d-7751-4449-fc4f-b7743895d6af"
      },
      "execution_count": 25,
      "outputs": [
        {
          "output_type": "execute_result",
          "data": {
            "text/plain": [
              "                       user_id             business_id  \\\n",
              "198656  -1MF2tosrw2WcCxeVNk81Q  EJ7Tp_KdGx52wSu0_7gbEQ   \n",
              "828838  -1MF2tosrw2WcCxeVNk81Q  qFwKNXKt2fvCatrLAqDONg   \n",
              "\n",
              "                                                     text  rating  \\\n",
              "198656  Went to see Shen Yun which left me in awe of w...     2.5   \n",
              "828838  Piece of junk restaurant. The whole point of t...     2.0   \n",
              "\n",
              "                                                 profiles train_type  \n",
              "198656  [0.29518131158077493, 0.059643589824464056, 0....      train  \n",
              "828838  [0.18743627709081329, -0.013925447136043715, 0...       test  "
            ],
            "text/html": [
              "\n",
              "  <div id=\"df-08bff2c0-9aa5-4a95-9521-d6dfb407a2cb\" class=\"colab-df-container\">\n",
              "    <div>\n",
              "<style scoped>\n",
              "    .dataframe tbody tr th:only-of-type {\n",
              "        vertical-align: middle;\n",
              "    }\n",
              "\n",
              "    .dataframe tbody tr th {\n",
              "        vertical-align: top;\n",
              "    }\n",
              "\n",
              "    .dataframe thead th {\n",
              "        text-align: right;\n",
              "    }\n",
              "</style>\n",
              "<table border=\"1\" class=\"dataframe\">\n",
              "  <thead>\n",
              "    <tr style=\"text-align: right;\">\n",
              "      <th></th>\n",
              "      <th>user_id</th>\n",
              "      <th>business_id</th>\n",
              "      <th>text</th>\n",
              "      <th>rating</th>\n",
              "      <th>profiles</th>\n",
              "      <th>train_type</th>\n",
              "    </tr>\n",
              "  </thead>\n",
              "  <tbody>\n",
              "    <tr>\n",
              "      <th>198656</th>\n",
              "      <td>-1MF2tosrw2WcCxeVNk81Q</td>\n",
              "      <td>EJ7Tp_KdGx52wSu0_7gbEQ</td>\n",
              "      <td>Went to see Shen Yun which left me in awe of w...</td>\n",
              "      <td>2.5</td>\n",
              "      <td>[0.29518131158077493, 0.059643589824464056, 0....</td>\n",
              "      <td>train</td>\n",
              "    </tr>\n",
              "    <tr>\n",
              "      <th>828838</th>\n",
              "      <td>-1MF2tosrw2WcCxeVNk81Q</td>\n",
              "      <td>qFwKNXKt2fvCatrLAqDONg</td>\n",
              "      <td>Piece of junk restaurant. The whole point of t...</td>\n",
              "      <td>2.0</td>\n",
              "      <td>[0.18743627709081329, -0.013925447136043715, 0...</td>\n",
              "      <td>test</td>\n",
              "    </tr>\n",
              "  </tbody>\n",
              "</table>\n",
              "</div>\n",
              "    <div class=\"colab-df-buttons\">\n",
              "\n",
              "  <div class=\"colab-df-container\">\n",
              "    <button class=\"colab-df-convert\" onclick=\"convertToInteractive('df-08bff2c0-9aa5-4a95-9521-d6dfb407a2cb')\"\n",
              "            title=\"Convert this dataframe to an interactive table.\"\n",
              "            style=\"display:none;\">\n",
              "\n",
              "  <svg xmlns=\"http://www.w3.org/2000/svg\" height=\"24px\" viewBox=\"0 -960 960 960\">\n",
              "    <path d=\"M120-120v-720h720v720H120Zm60-500h600v-160H180v160Zm220 220h160v-160H400v160Zm0 220h160v-160H400v160ZM180-400h160v-160H180v160Zm440 0h160v-160H620v160ZM180-180h160v-160H180v160Zm440 0h160v-160H620v160Z\"/>\n",
              "  </svg>\n",
              "    </button>\n",
              "\n",
              "  <style>\n",
              "    .colab-df-container {\n",
              "      display:flex;\n",
              "      gap: 12px;\n",
              "    }\n",
              "\n",
              "    .colab-df-convert {\n",
              "      background-color: #E8F0FE;\n",
              "      border: none;\n",
              "      border-radius: 50%;\n",
              "      cursor: pointer;\n",
              "      display: none;\n",
              "      fill: #1967D2;\n",
              "      height: 32px;\n",
              "      padding: 0 0 0 0;\n",
              "      width: 32px;\n",
              "    }\n",
              "\n",
              "    .colab-df-convert:hover {\n",
              "      background-color: #E2EBFA;\n",
              "      box-shadow: 0px 1px 2px rgba(60, 64, 67, 0.3), 0px 1px 3px 1px rgba(60, 64, 67, 0.15);\n",
              "      fill: #174EA6;\n",
              "    }\n",
              "\n",
              "    .colab-df-buttons div {\n",
              "      margin-bottom: 4px;\n",
              "    }\n",
              "\n",
              "    [theme=dark] .colab-df-convert {\n",
              "      background-color: #3B4455;\n",
              "      fill: #D2E3FC;\n",
              "    }\n",
              "\n",
              "    [theme=dark] .colab-df-convert:hover {\n",
              "      background-color: #434B5C;\n",
              "      box-shadow: 0px 1px 3px 1px rgba(0, 0, 0, 0.15);\n",
              "      filter: drop-shadow(0px 1px 2px rgba(0, 0, 0, 0.3));\n",
              "      fill: #FFFFFF;\n",
              "    }\n",
              "  </style>\n",
              "\n",
              "    <script>\n",
              "      const buttonEl =\n",
              "        document.querySelector('#df-08bff2c0-9aa5-4a95-9521-d6dfb407a2cb button.colab-df-convert');\n",
              "      buttonEl.style.display =\n",
              "        google.colab.kernel.accessAllowed ? 'block' : 'none';\n",
              "\n",
              "      async function convertToInteractive(key) {\n",
              "        const element = document.querySelector('#df-08bff2c0-9aa5-4a95-9521-d6dfb407a2cb');\n",
              "        const dataTable =\n",
              "          await google.colab.kernel.invokeFunction('convertToInteractive',\n",
              "                                                    [key], {});\n",
              "        if (!dataTable) return;\n",
              "\n",
              "        const docLinkHtml = 'Like what you see? Visit the ' +\n",
              "          '<a target=\"_blank\" href=https://colab.research.google.com/notebooks/data_table.ipynb>data table notebook</a>'\n",
              "          + ' to learn more about interactive tables.';\n",
              "        element.innerHTML = '';\n",
              "        dataTable['output_type'] = 'display_data';\n",
              "        await google.colab.output.renderOutput(dataTable, element);\n",
              "        const docLink = document.createElement('div');\n",
              "        docLink.innerHTML = docLinkHtml;\n",
              "        element.appendChild(docLink);\n",
              "      }\n",
              "    </script>\n",
              "  </div>\n",
              "\n",
              "\n",
              "<div id=\"df-33ab4471-1856-46fe-a27d-755239cd92c9\">\n",
              "  <button class=\"colab-df-quickchart\" onclick=\"quickchart('df-33ab4471-1856-46fe-a27d-755239cd92c9')\"\n",
              "            title=\"Suggest charts\"\n",
              "            style=\"display:none;\">\n",
              "\n",
              "<svg xmlns=\"http://www.w3.org/2000/svg\" height=\"24px\"viewBox=\"0 0 24 24\"\n",
              "     width=\"24px\">\n",
              "    <g>\n",
              "        <path d=\"M19 3H5c-1.1 0-2 .9-2 2v14c0 1.1.9 2 2 2h14c1.1 0 2-.9 2-2V5c0-1.1-.9-2-2-2zM9 17H7v-7h2v7zm4 0h-2V7h2v10zm4 0h-2v-4h2v4z\"/>\n",
              "    </g>\n",
              "</svg>\n",
              "  </button>\n",
              "\n",
              "<style>\n",
              "  .colab-df-quickchart {\n",
              "      --bg-color: #E8F0FE;\n",
              "      --fill-color: #1967D2;\n",
              "      --hover-bg-color: #E2EBFA;\n",
              "      --hover-fill-color: #174EA6;\n",
              "      --disabled-fill-color: #AAA;\n",
              "      --disabled-bg-color: #DDD;\n",
              "  }\n",
              "\n",
              "  [theme=dark] .colab-df-quickchart {\n",
              "      --bg-color: #3B4455;\n",
              "      --fill-color: #D2E3FC;\n",
              "      --hover-bg-color: #434B5C;\n",
              "      --hover-fill-color: #FFFFFF;\n",
              "      --disabled-bg-color: #3B4455;\n",
              "      --disabled-fill-color: #666;\n",
              "  }\n",
              "\n",
              "  .colab-df-quickchart {\n",
              "    background-color: var(--bg-color);\n",
              "    border: none;\n",
              "    border-radius: 50%;\n",
              "    cursor: pointer;\n",
              "    display: none;\n",
              "    fill: var(--fill-color);\n",
              "    height: 32px;\n",
              "    padding: 0;\n",
              "    width: 32px;\n",
              "  }\n",
              "\n",
              "  .colab-df-quickchart:hover {\n",
              "    background-color: var(--hover-bg-color);\n",
              "    box-shadow: 0 1px 2px rgba(60, 64, 67, 0.3), 0 1px 3px 1px rgba(60, 64, 67, 0.15);\n",
              "    fill: var(--button-hover-fill-color);\n",
              "  }\n",
              "\n",
              "  .colab-df-quickchart-complete:disabled,\n",
              "  .colab-df-quickchart-complete:disabled:hover {\n",
              "    background-color: var(--disabled-bg-color);\n",
              "    fill: var(--disabled-fill-color);\n",
              "    box-shadow: none;\n",
              "  }\n",
              "\n",
              "  .colab-df-spinner {\n",
              "    border: 2px solid var(--fill-color);\n",
              "    border-color: transparent;\n",
              "    border-bottom-color: var(--fill-color);\n",
              "    animation:\n",
              "      spin 1s steps(1) infinite;\n",
              "  }\n",
              "\n",
              "  @keyframes spin {\n",
              "    0% {\n",
              "      border-color: transparent;\n",
              "      border-bottom-color: var(--fill-color);\n",
              "      border-left-color: var(--fill-color);\n",
              "    }\n",
              "    20% {\n",
              "      border-color: transparent;\n",
              "      border-left-color: var(--fill-color);\n",
              "      border-top-color: var(--fill-color);\n",
              "    }\n",
              "    30% {\n",
              "      border-color: transparent;\n",
              "      border-left-color: var(--fill-color);\n",
              "      border-top-color: var(--fill-color);\n",
              "      border-right-color: var(--fill-color);\n",
              "    }\n",
              "    40% {\n",
              "      border-color: transparent;\n",
              "      border-right-color: var(--fill-color);\n",
              "      border-top-color: var(--fill-color);\n",
              "    }\n",
              "    60% {\n",
              "      border-color: transparent;\n",
              "      border-right-color: var(--fill-color);\n",
              "    }\n",
              "    80% {\n",
              "      border-color: transparent;\n",
              "      border-right-color: var(--fill-color);\n",
              "      border-bottom-color: var(--fill-color);\n",
              "    }\n",
              "    90% {\n",
              "      border-color: transparent;\n",
              "      border-bottom-color: var(--fill-color);\n",
              "    }\n",
              "  }\n",
              "</style>\n",
              "\n",
              "  <script>\n",
              "    async function quickchart(key) {\n",
              "      const quickchartButtonEl =\n",
              "        document.querySelector('#' + key + ' button');\n",
              "      quickchartButtonEl.disabled = true;  // To prevent multiple clicks.\n",
              "      quickchartButtonEl.classList.add('colab-df-spinner');\n",
              "      try {\n",
              "        const charts = await google.colab.kernel.invokeFunction(\n",
              "            'suggestCharts', [key], {});\n",
              "      } catch (error) {\n",
              "        console.error('Error during call to suggestCharts:', error);\n",
              "      }\n",
              "      quickchartButtonEl.classList.remove('colab-df-spinner');\n",
              "      quickchartButtonEl.classList.add('colab-df-quickchart-complete');\n",
              "    }\n",
              "    (() => {\n",
              "      let quickchartButtonEl =\n",
              "        document.querySelector('#df-33ab4471-1856-46fe-a27d-755239cd92c9 button');\n",
              "      quickchartButtonEl.style.display =\n",
              "        google.colab.kernel.accessAllowed ? 'block' : 'none';\n",
              "    })();\n",
              "  </script>\n",
              "</div>\n",
              "    </div>\n",
              "  </div>\n"
            ],
            "application/vnd.google.colaboratory.intrinsic+json": {
              "type": "dataframe",
              "variable_name": "df_random_split"
            }
          },
          "metadata": {},
          "execution_count": 25
        }
      ]
    },
    {
      "cell_type": "code",
      "source": [
        "df_train = df_random_split[df_random_split.train_type == 'train']\n",
        "df_test  = df_random_split[df_random_split.train_type == 'test']\n",
        "\n",
        "print(df_train.shape, df_test.shape)"
      ],
      "metadata": {
        "colab": {
          "base_uri": "https://localhost:8080/"
        },
        "id": "HbdIKrs0-D4D",
        "outputId": "15148b6c-7d26-4b13-ddc3-0be39881bf6d"
      },
      "execution_count": 27,
      "outputs": [
        {
          "output_type": "stream",
          "name": "stdout",
          "text": [
            "(235472, 6) (100917, 6)\n"
          ]
        }
      ]
    },
    {
      "cell_type": "code",
      "source": [
        "# Checking if any completely new user is there in the test set\n",
        "for user_id in df_test.user_id.unique():\n",
        "  if user_id not in df_train.user_id.unique():\n",
        "    print(user_id)"
      ],
      "metadata": {
        "id": "Tvt6E1fT-Njz"
      },
      "execution_count": 28,
      "outputs": []
    },
    {
      "cell_type": "code",
      "source": [
        "# Now top similar recommendations can be found in two ways\n",
        "# Find Similar Recommendations from the restaurants that user has already rated\n",
        "# Find Similar Recommendations based on the User Profile and all the business Profiles. This will give surprise recommendations as well"
      ],
      "metadata": {
        "id": "03ELEqotDjtM"
      },
      "execution_count": 29,
      "outputs": []
    },
    {
      "cell_type": "code",
      "source": [
        "# Finding Surprise Recommendations\n",
        "def create_business_profile_database(business_profiles):\n",
        "  business_ids = list(business_profiles.keys())\n",
        "  business_tfidf = np.array(list(business_profiles.values()))\n",
        "\n",
        "  idx2business = {idx: business_id for idx, business_id in enumerate(business_ids)}\n",
        "\n",
        "  normalized_business_tfidf =  business_tfidf / np.linalg.norm(business_tfidf, axis=1)[:, np.newaxis]\n",
        "\n",
        "  dimension = normalized_business_tfidf.shape[1]\n",
        "  index = faiss.IndexFlatIP(dimension)  # IndexFlatIP uses inner product (equivalent to cosine similarity for normalized vectors)\n",
        "\n",
        "  index.add(normalized_business_tfidf.astype('float32'))  # FAISS expects vectors to be in float32 format\n",
        "  return index, idx2business\n",
        "\n",
        "class SurpriseContentBasePredictor:\n",
        "  \"\"\"It will generate surprise/new recommendations that user may/may not have visited\"\"\"\n",
        "  def __init__(self, index, idx2business, user_profiles, train_data):\n",
        "    self.db_index = index\n",
        "    self.idx2business = idx2business\n",
        "    self.user_profiles = user_profiles\n",
        "    self.train_data = train_data\n",
        "\n",
        "  def findTopkRecommendations(self, user_profile, topk=5):\n",
        "    user_profile = np.array([user_profile])\n",
        "    normalized_user_profile = user_profile / np.linalg.norm(user_profile, axis=1)[:, np.newaxis]\n",
        "    D, I = self.db_index.search(normalized_user_profile.astype('float32'), topk)\n",
        "\n",
        "    recommended_business_ids = [self.idx2business[idx] for idx in I[0]]\n",
        "    return recommended_business_ids\n",
        "\n",
        "  def predict_rating(self, business_ids):\n",
        "    recommended_rating = self.train_data[self.train_data.business_id.isin(business_ids)]['rating'].mean()\n",
        "    return recommended_rating\n",
        "\n",
        "\n",
        "  def predict(self, userId, topk=5):\n",
        "    user_profile = self.user_profiles.get(userId, None)\n",
        "    if user_profile is None:\n",
        "      # Start with Average User Profile\n",
        "      user_profile = np.array(list(user_profiles.values())).mean(axis=0)\n",
        "\n",
        "    topk_recommendations = self.findTopkRecommendations(user_profile, topk)\n",
        "    predicted_rating = self.predict_rating(business_ids=topk_recommendations)\n",
        "    return {'rating' : predicted_rating, 'business_ids' : topk_recommendations}"
      ],
      "metadata": {
        "id": "csKBGPxxFInz"
      },
      "execution_count": 83,
      "outputs": []
    },
    {
      "cell_type": "code",
      "source": [
        "# Creating DB Index\n",
        "db_index, idx2business = create_business_profile_database(business_profiles=item_profiles)\n",
        "\n",
        "\n",
        "# Creating Train User Profiles\n",
        "train_user_ids = df_train.user_id.unique()\n",
        "user_profile_df = pd.DataFrame({\n",
        "    \"user_id\" : list(user_profiles.keys()),\n",
        "    \"profile\" : list(user_profiles.values())\n",
        "})\n",
        "train_user_profiles = user_profile_df[user_profile_df.user_id.isin(train_user_ids)].set_index('user_id').to_dict()['profile']\n",
        "\n",
        "\n",
        "surp_CBR = SurpriseContentBasePredictor(index=db_index,\n",
        "                                        idx2business=idx2business,\n",
        "                                        user_profiles=train_user_profiles,\n",
        "                                        train_data=df_train\n",
        "                                        )"
      ],
      "metadata": {
        "id": "gT-oWobNIl1P"
      },
      "execution_count": 84,
      "outputs": []
    },
    {
      "cell_type": "code",
      "source": [
        "def evaluate_CBR(df_test, topk):\n",
        "  unique_users = df_test.user_id.unique()\n",
        "  print(\"Users in Test Set :\",len(unique_users))\n",
        "\n",
        "  print(\"Extracting GT Ratings\")\n",
        "  gt_ratings = [df_test[df_test.user_id == user].rating.mean() for user in unique_users]\n",
        "  predicted_ratings = []\n",
        "  print(\"Startig Prediction\")\n",
        "  for user_id in tqdm(unique_users):\n",
        "    preds = surp_CBR.predict(userId = user_id, topk=topk)\n",
        "    predicted_ratings.append(preds.get('rating'))\n",
        "\n",
        "  mse = mean_squared_error(gt_ratings, predicted_ratings)\n",
        "  mae = mean_absolute_error(gt_ratings, predicted_ratings)\n",
        "  print(f\"mse@k={topk} : {mse}, mae@k={topk} : {mae}\")\n",
        "  print(\"Done\")\n",
        "  return mse, mae"
      ],
      "metadata": {
        "id": "l_-mafNpKjbX"
      },
      "execution_count": 85,
      "outputs": []
    },
    {
      "cell_type": "code",
      "source": [
        "evaluate_CBR(df_test, topk=5)"
      ],
      "metadata": {
        "colab": {
          "base_uri": "https://localhost:8080/"
        },
        "id": "sE8bJjIaNugv",
        "outputId": "3f1360e7-11d8-4f76-82ba-7230f7f2d512"
      },
      "execution_count": 86,
      "outputs": [
        {
          "output_type": "stream",
          "name": "stdout",
          "text": [
            "Users in Test Set : 6394\n",
            "Extracting GT Ratings\n",
            "Startig Prediction\n"
          ]
        },
        {
          "output_type": "stream",
          "name": "stderr",
          "text": [
            "100%|██████████| 6394/6394 [03:20<00:00, 31.92it/s]"
          ]
        },
        {
          "output_type": "stream",
          "name": "stdout",
          "text": [
            "mse@k=5 : 0.1711278910288091, mae@k=5 : 0.30892226747549206\n",
            "Done\n"
          ]
        },
        {
          "output_type": "stream",
          "name": "stderr",
          "text": [
            "\n"
          ]
        },
        {
          "output_type": "execute_result",
          "data": {
            "text/plain": [
              "(0.1711278910288091, 0.30892226747549206)"
            ]
          },
          "metadata": {},
          "execution_count": 86
        }
      ]
    },
    {
      "cell_type": "code",
      "source": [
        "topk_list = [2, 4, 5, 10, 15, 20]\n",
        "mse_list = []\n",
        "mae_list = []\n",
        "for topk in topk_list:\n",
        "  mse, mae = evaluate_CBR(df_test, topk=topk)\n",
        "  mse_list.append(mse)\n",
        "  mae_list.append(mae)"
      ],
      "metadata": {
        "colab": {
          "base_uri": "https://localhost:8080/"
        },
        "id": "NdWSgNsBPVq7",
        "outputId": "7afed0ae-5792-44a3-98fa-61797b7eab5f"
      },
      "execution_count": 87,
      "outputs": [
        {
          "output_type": "stream",
          "name": "stdout",
          "text": [
            "Users in Test Set : 6394\n",
            "Extracting GT Ratings\n",
            "Startig Prediction\n"
          ]
        },
        {
          "output_type": "stream",
          "name": "stderr",
          "text": [
            "100%|██████████| 6394/6394 [01:58<00:00, 53.83it/s]\n"
          ]
        },
        {
          "output_type": "stream",
          "name": "stdout",
          "text": [
            "mse@k=2 : 0.266977816730063, mae@k=2 : 0.38901801373344375\n",
            "Done\n",
            "Users in Test Set : 6394\n",
            "Extracting GT Ratings\n",
            "Startig Prediction\n"
          ]
        },
        {
          "output_type": "stream",
          "name": "stderr",
          "text": [
            "100%|██████████| 6394/6394 [02:13<00:00, 47.87it/s]\n"
          ]
        },
        {
          "output_type": "stream",
          "name": "stdout",
          "text": [
            "mse@k=4 : 0.19101624171257303, mae@k=4 : 0.326677020646582\n",
            "Done\n",
            "Users in Test Set : 6394\n",
            "Extracting GT Ratings\n",
            "Startig Prediction\n"
          ]
        },
        {
          "output_type": "stream",
          "name": "stderr",
          "text": [
            "100%|██████████| 6394/6394 [02:38<00:00, 40.29it/s]\n"
          ]
        },
        {
          "output_type": "stream",
          "name": "stdout",
          "text": [
            "mse@k=5 : 0.1711278910288091, mae@k=5 : 0.30892226747549206\n",
            "Done\n",
            "Users in Test Set : 6394\n",
            "Extracting GT Ratings\n",
            "Startig Prediction\n"
          ]
        },
        {
          "output_type": "stream",
          "name": "stderr",
          "text": [
            "100%|██████████| 6394/6394 [02:59<00:00, 35.59it/s]\n"
          ]
        },
        {
          "output_type": "stream",
          "name": "stdout",
          "text": [
            "mse@k=10 : 0.13018259420133702, mae@k=10 : 0.27122370144818764\n",
            "Done\n",
            "Users in Test Set : 6394\n",
            "Extracting GT Ratings\n",
            "Startig Prediction\n"
          ]
        },
        {
          "output_type": "stream",
          "name": "stderr",
          "text": [
            "100%|██████████| 6394/6394 [02:33<00:00, 41.72it/s]\n"
          ]
        },
        {
          "output_type": "stream",
          "name": "stdout",
          "text": [
            "mse@k=15 : 0.11054030750193969, mae@k=15 : 0.2524034719999385\n",
            "Done\n",
            "Users in Test Set : 6394\n",
            "Extracting GT Ratings\n",
            "Startig Prediction\n"
          ]
        },
        {
          "output_type": "stream",
          "name": "stderr",
          "text": [
            "100%|██████████| 6394/6394 [03:15<00:00, 32.76it/s]"
          ]
        },
        {
          "output_type": "stream",
          "name": "stdout",
          "text": [
            "mse@k=20 : 0.09978209044589734, mae@k=20 : 0.24120054226383988\n",
            "Done\n"
          ]
        },
        {
          "output_type": "stream",
          "name": "stderr",
          "text": [
            "\n"
          ]
        }
      ]
    },
    {
      "cell_type": "code",
      "source": [
        "plt.plot(topk_list, mse_list, color='r')\n",
        "plt.xlabel('topk')\n",
        "plt.ylabel('mse')\n",
        "plt.title('MSE vs TopK')"
      ],
      "metadata": {
        "colab": {
          "base_uri": "https://localhost:8080/",
          "height": 490
        },
        "id": "yRaIV6SzZd5g",
        "outputId": "90686f26-1587-4c3e-ffb9-694176629026"
      },
      "execution_count": 94,
      "outputs": [
        {
          "output_type": "execute_result",
          "data": {
            "text/plain": [
              "Text(0.5, 1.0, 'MSE vs TopK')"
            ]
          },
          "metadata": {},
          "execution_count": 94
        },
        {
          "output_type": "display_data",
          "data": {
            "text/plain": [
              "<Figure size 640x480 with 1 Axes>"
            ],
            "image/png": "[encoded data removed]"
          },
          "metadata": {}
        }
      ]
    },
    {
      "cell_type": "code",
      "source": [
        "plt.plot(topk_list, mae_list, color='g')\n",
        "plt.xlabel('topk')\n",
        "plt.ylabel('mae')\n",
        "plt.title('MAE vs TopK')"
      ],
      "metadata": {
        "colab": {
          "base_uri": "https://localhost:8080/",
          "height": 490
        },
        "id": "Uj6ZXGH4aWHc",
        "outputId": "5b26f822-9cce-43fe-84fc-2832631aa13a"
      },
      "execution_count": 95,
      "outputs": [
        {
          "output_type": "execute_result",
          "data": {
            "text/plain": [
              "Text(0.5, 1.0, 'MAE vs TopK')"
            ]
          },
          "metadata": {},
          "execution_count": 95
        },
        {
          "output_type": "display_data",
          "data": {
            "text/plain": [
              "<Figure size 640x480 with 1 Axes>"
            ],
            "image/png": "[encoded data removed]"
          },
          "metadata": {}
        }
      ]
    },
    {
      "cell_type": "markdown",
      "source": [
        "## Experiment 2\n",
        "\n",
        "__Splitting based on ItemId, the test set ItemID will not be present in the trainset"
      ],
      "metadata": {
        "id": "e--yrJZjcKag"
      }
    },
    {
      "cell_type": "code",
      "source": [],
      "metadata": {
        "id": "sghRvaaPcMej"
      },
      "execution_count": null,
      "outputs": []
    }
  ]
}