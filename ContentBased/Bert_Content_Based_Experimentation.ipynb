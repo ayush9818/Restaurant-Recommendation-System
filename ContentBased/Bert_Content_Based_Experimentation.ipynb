{
 "cells": [
  {
   "cell_type": "code",
   "execution_count": 1,
   "id": "2a3e6215-242e-4291-97e5-cff555c83b7b",
   "metadata": {},
   "outputs": [],
   "source": [
    "import warnings\n",
    "warnings.filterwarnings('ignore')\n",
    "\n",
    "import pandas as pd\n",
    "import os\n",
    "import json\n",
    "import re\n",
    "import scipy as sp\n",
    "import pickle\n",
    "\n",
    "import numpy as np\n",
    "import matplotlib.pyplot as plt\n",
    "from tqdm import tqdm\n",
    "from sklearn.metrics import mean_squared_error, mean_absolute_error\n",
    "from sklearn.metrics.pairwise import cosine_similarity\n",
    "from scipy.special import softmax\n",
    "from scipy.sparse import csr_matrix\n",
    "\n",
    "import random\n",
    "random.seed(1234)"
   ]
  },
  {
   "cell_type": "markdown",
   "id": "a8810a33-d94f-4b33-99c1-e57f7546bc33",
   "metadata": {},
   "source": [
    "# Data loading and Processing"
   ]
  },
  {
   "cell_type": "code",
   "execution_count": 3,
   "id": "ad917822-a5a2-49f2-8bac-93c28fc8dbec",
   "metadata": {},
   "outputs": [
    {
     "data": {
      "text/plain": [
       "['test_data.json',\n",
       " 'user_profiles_bert.pkl',\n",
       " '.DS_Store',\n",
       " 'dataset',\n",
       " 'user_profiles.pkl',\n",
       " 'item_profiles_bert.pkl',\n",
       " '.ipynb_checkpoints',\n",
       " 'train_data.json',\n",
       " 'archive.zip',\n",
       " 'item_profiles.pkl']"
      ]
     },
     "execution_count": 3,
     "metadata": {},
     "output_type": "execute_result"
    }
   ],
   "source": [
    "data_dir = '/Users/dare_devil/Documents/MLDS_2024/Quarter2/DataMining/Project/data'\n",
    "os.listdir(data_dir)"
   ]
  },
  {
   "cell_type": "code",
   "execution_count": 4,
   "id": "e5ab73fe-c754-4153-ba1b-564ab02078af",
   "metadata": {},
   "outputs": [],
   "source": [
    "# Filenames of the objects to be used\n",
    "train_data_fname = 'train_data.json'\n",
    "test_data_fname = 'test_data.json'\n",
    "user_profiles_fname = 'user_profiles_bert.pkl'\n",
    "item_profiles_fname = 'item_profiles_bert.pkl'"
   ]
  },
  {
   "cell_type": "code",
   "execution_count": 5,
   "id": "aa4f5987-b090-4d21-aa86-cdf50425e6fd",
   "metadata": {},
   "outputs": [],
   "source": [
    "# Loading Training and Testing Data \n",
    "train_df = pd.read_json(os.path.join(data_dir, train_data_fname))\n",
    "test_df = pd.read_json(os.path.join(data_dir, test_data_fname))\n",
    "\n",
    "# Loading User and Item Profiles\n",
    "user_profiles = pickle.load(open(os.path.join(data_dir, user_profiles_fname), 'rb'))\n",
    "item_profiles = pickle.load(open(os.path.join(data_dir, item_profiles_fname), 'rb'))"
   ]
  },
  {
   "cell_type": "code",
   "execution_count": 6,
   "id": "c2ef733b-5814-4736-bcca-557cec8ed5cd",
   "metadata": {},
   "outputs": [],
   "source": [
    "# Defining User-Item Matrices and Mapping Functions\n",
    "user_matrix = np.array([profile  for user_id, profile in user_profiles.items()])\n",
    "item_matrix = np.array([profile  for item_id, profile in item_profiles.items()])\n",
    "\n",
    "\n",
    "idx2user = { idx:user_id for idx,user_id in enumerate(user_profiles.keys())}\n",
    "idx2item = { idx:item_id for idx,item_id in enumerate(item_profiles.keys())}"
   ]
  },
  {
   "cell_type": "code",
   "execution_count": 8,
   "id": "eebfcd5f-f2f8-4251-9d2a-03e6eda37c8d",
   "metadata": {},
   "outputs": [
    {
     "name": "stdout",
     "output_type": "stream",
     "text": [
      "(67278, 22)\n",
      "(67101, 22)\n",
      "Deleted Items: 164\n"
     ]
    }
   ],
   "source": [
    "# Removing items from test set which are not present in train set\n",
    "test_items = test_df['business_id'].unique()\n",
    "train_items = train_df['business_id'].unique()\n",
    "\n",
    "delete_items = []\n",
    "for item in test_items:\n",
    "  if item not in train_items:\n",
    "    delete_items.append(item)\n",
    "\n",
    "\n",
    "print(test_df.shape)\n",
    "test_df = test_df[~test_df.business_id.isin(delete_items)]\n",
    "print(test_df.shape)\n",
    "\n",
    "print(f\"Deleted Items: {len(delete_items)}\")"
   ]
  },
  {
   "cell_type": "code",
   "execution_count": 9,
   "id": "570bc57f-78ea-4aa0-a520-9c27e1dce1de",
   "metadata": {},
   "outputs": [
    {
     "name": "stdout",
     "output_type": "stream",
     "text": [
      "Filtered Test Dataframe Size : 6832\n"
     ]
    }
   ],
   "source": [
    "# Filtering Test Dataframe based on number of reviews per user\n",
    "review_per_user_thresh = 50\n",
    "\n",
    "user_review_count = test_df.groupby('user_id')['review_id'].count().sort_values(ascending=False).reset_index()\n",
    "user_review_count.rename(columns={'review_id' : 'num_reviews'}, inplace=True)\n",
    "\n",
    "filtered_user_ids = user_review_count[user_review_count.num_reviews >= review_per_user_thresh].user_id\n",
    "\n",
    "test_df_filtered = test_df[test_df.user_id.isin(filtered_user_ids)]\n",
    "print(\"Filtered Test Dataframe Size :\", test_df_filtered.shape[0])"
   ]
  },
  {
   "cell_type": "code",
   "execution_count": 13,
   "id": "d4aae81d-78fa-4992-a2ac-990414a9656f",
   "metadata": {},
   "outputs": [],
   "source": [
    "# Defining Helper Functions\n",
    "def evaluate_engine(test_df, topk, engine):\n",
    "  y_true = np.array(test_df['user_rating'].tolist())\n",
    "  y_pred = []\n",
    "\n",
    "  failed_indices = []\n",
    "  done=0\n",
    "  total=test_df.shape[0]\n",
    "\n",
    "  print(\"Starting Inference\")\n",
    "  for idx, row in test_df.iterrows():\n",
    "    u_id = row['user_id']\n",
    "    item_id = row['business_id']\n",
    "    try:\n",
    "      pred_rating = engine.predict(u_id, item_id, topk)\n",
    "    except Exception as e:\n",
    "      print(e)\n",
    "      failed_indices.append(idx)\n",
    "      continue\n",
    "    y_pred.append(pred_rating)\n",
    "    done+=1\n",
    "\n",
    "    if done % 500 == 0:\n",
    "      print(f\"{done}/{total} Done | {len(failed_indices)}/{total} Failed\")\n",
    "\n",
    "  print(\"Removing Failed Indices\")\n",
    "  y_true = np.delete(y_true, failed_indices)\n",
    "\n",
    "  mse = mean_squared_error(y_true, y_pred)\n",
    "  mae = mean_absolute_error(y_true, y_pred)\n",
    "  print(f\"mse@k={topk} : {mse}, mae@k={topk} : {mae}\")\n",
    "  print(\"Done\")\n",
    "\n",
    "  return mse, mae"
   ]
  },
  {
   "cell_type": "markdown",
   "id": "a1df04e1-1cd1-425c-9794-afaafbef1b61",
   "metadata": {},
   "source": [
    "# User Based Engine"
   ]
  },
  {
   "cell_type": "code",
   "execution_count": 14,
   "id": "55a921e7-7fda-4c1b-b5e5-4adc360b3ed3",
   "metadata": {},
   "outputs": [],
   "source": [
    "# Defining User Based Recommendation Engine Class\n",
    "\n",
    "class UserBasedEngine:\n",
    "  def __init__(self, sim_matrix, idx2user, idx2item, train_df):\n",
    "    \"\"\"\n",
    "    args:\n",
    "      sim_matrix: user-user similarity matrix\n",
    "      idx2user : index to user_id mapping\n",
    "      idx2item : index to item_id mapping\n",
    "      train_df : training dataframe\n",
    "    \"\"\"\n",
    "    self.sim_matrix = sim_matrix\n",
    "    self.idx2user = idx2user\n",
    "    self.idx2item = idx2item\n",
    "    self.train_df = train_df\n",
    "\n",
    "    self.user2idx = {v:k for k,v in self.idx2user.items()}\n",
    "    self.item2idx = {v:k for k,v in self.idx2item.items()}\n",
    "\n",
    "  def predict(self, user_id, item_id, topk):\n",
    "    \"\"\"\n",
    "    Given a user_id,item_id find users who have rated given item_id and find topk similar users\n",
    "    args:\n",
    "      user_id, item_id : pair of user_id and item_id for which rating is to predicted\n",
    "      topk : number of nearest neighbours to consider\n",
    "    \"\"\"\n",
    "    # Finding users who have rated item : item_id\n",
    "    user_who_rated = self.train_df[self.train_df.business_id == item_id].user_id.unique()\n",
    "\n",
    "    user_index = self.user2idx[user_id]\n",
    "    sim_scores = self.sim_matrix[user_index]\n",
    "\n",
    "    sim_scores = pd.Series(sim_scores)\n",
    "    sim_scores.index = self.user2idx.keys()\n",
    "\n",
    "    # Finding Similar users as user_id from the users who have rated\n",
    "    sorted_sim_scores = sim_scores[user_who_rated].sort_values(ascending=False)\n",
    "\n",
    "    # Appplying Softmax of Similarity scores\n",
    "    topk_sims = softmax(sorted_sim_scores[:topk])\n",
    "    topk_users = sorted_sim_scores[:topk].index\n",
    "\n",
    "    filter_df = self.train_df[(self.train_df.business_id == item_id) & (self.train_df.user_id.isin(topk_users))]\n",
    "    topk_ratings = [user_df['user_rating'].mean() for user_id, user_df in filter_df.groupby('user_id')]\n",
    "\n",
    "    # Calculate weighted predicted rating\n",
    "    predicted_rating = round(sum([ topk_sims[idx]*topk_ratings[idx] for idx in range(len(topk_ratings))]))\n",
    "\n",
    "\n",
    "    assert predicted_rating >= 0.99 and predicted_rating <= 5.1, f\"Predicted Rating : {predicted_rating} out of bounds\"\n",
    "    return predicted_rating"
   ]
  },
  {
   "cell_type": "code",
   "execution_count": 16,
   "id": "613bd796-3ab7-4919-9012-0b82a723e546",
   "metadata": {},
   "outputs": [],
   "source": [
    "# Initializinng User Similarity Matrix\n",
    "user_sim_matrix = cosine_similarity(user_matrix)\n",
    "np.fill_diagonal(user_sim_matrix, 0)\n",
    "\n",
    "\n",
    "ub_engine = UserBasedEngine(sim_matrix=user_sim_matrix,\n",
    "                            idx2user = idx2user,\n",
    "                            idx2item = idx2item,\n",
    "                            train_df = train_df\n",
    "                            )"
   ]
  },
  {
   "cell_type": "code",
   "execution_count": 17,
   "id": "ed7d3c86-ecc9-4493-892e-2c5ae780d2ec",
   "metadata": {},
   "outputs": [
    {
     "name": "stdout",
     "output_type": "stream",
     "text": [
      "Evaluating for topk = 5\n",
      "Starting Inference\n",
      "500/6832 Done | 0/6832 Failed\n",
      "1000/6832 Done | 0/6832 Failed\n",
      "1500/6832 Done | 0/6832 Failed\n",
      "2000/6832 Done | 0/6832 Failed\n",
      "2500/6832 Done | 0/6832 Failed\n",
      "3000/6832 Done | 0/6832 Failed\n",
      "3500/6832 Done | 0/6832 Failed\n",
      "4000/6832 Done | 0/6832 Failed\n",
      "4500/6832 Done | 0/6832 Failed\n",
      "5000/6832 Done | 0/6832 Failed\n",
      "5500/6832 Done | 0/6832 Failed\n",
      "6000/6832 Done | 0/6832 Failed\n",
      "6500/6832 Done | 0/6832 Failed\n",
      "Removing Failed Indices\n",
      "mse@k=5 : 1.0042447306791569, mae@k=5 : 0.7015515222482436\n",
      "Done\n",
      "Evaluating for topk = 10\n",
      "Starting Inference\n",
      "500/6832 Done | 0/6832 Failed\n",
      "1000/6832 Done | 0/6832 Failed\n",
      "1500/6832 Done | 0/6832 Failed\n",
      "2000/6832 Done | 0/6832 Failed\n",
      "2500/6832 Done | 0/6832 Failed\n",
      "3000/6832 Done | 0/6832 Failed\n",
      "3500/6832 Done | 0/6832 Failed\n",
      "4000/6832 Done | 0/6832 Failed\n",
      "4500/6832 Done | 0/6832 Failed\n",
      "5000/6832 Done | 0/6832 Failed\n",
      "5500/6832 Done | 0/6832 Failed\n",
      "6000/6832 Done | 0/6832 Failed\n",
      "6500/6832 Done | 0/6832 Failed\n",
      "Removing Failed Indices\n",
      "mse@k=10 : 0.9069086651053864, mae@k=10 : 0.6615925058548009\n",
      "Done\n",
      "Evaluating for topk = 15\n",
      "Starting Inference\n",
      "500/6832 Done | 0/6832 Failed\n",
      "1000/6832 Done | 0/6832 Failed\n",
      "1500/6832 Done | 0/6832 Failed\n",
      "2000/6832 Done | 0/6832 Failed\n",
      "2500/6832 Done | 0/6832 Failed\n",
      "3000/6832 Done | 0/6832 Failed\n",
      "3500/6832 Done | 0/6832 Failed\n",
      "4000/6832 Done | 0/6832 Failed\n",
      "4500/6832 Done | 0/6832 Failed\n",
      "5000/6832 Done | 0/6832 Failed\n",
      "5500/6832 Done | 0/6832 Failed\n",
      "6000/6832 Done | 0/6832 Failed\n",
      "6500/6832 Done | 0/6832 Failed\n",
      "Removing Failed Indices\n",
      "mse@k=15 : 0.887148711943794, mae@k=15 : 0.6541276346604216\n",
      "Done\n",
      "Evaluating for topk = 20\n",
      "Starting Inference\n",
      "500/6832 Done | 0/6832 Failed\n",
      "1000/6832 Done | 0/6832 Failed\n",
      "1500/6832 Done | 0/6832 Failed\n",
      "2000/6832 Done | 0/6832 Failed\n",
      "2500/6832 Done | 0/6832 Failed\n",
      "3000/6832 Done | 0/6832 Failed\n",
      "3500/6832 Done | 0/6832 Failed\n",
      "4000/6832 Done | 0/6832 Failed\n",
      "4500/6832 Done | 0/6832 Failed\n",
      "5000/6832 Done | 0/6832 Failed\n",
      "5500/6832 Done | 0/6832 Failed\n",
      "6000/6832 Done | 0/6832 Failed\n",
      "6500/6832 Done | 0/6832 Failed\n",
      "Removing Failed Indices\n",
      "mse@k=20 : 0.8764637002341921, mae@k=20 : 0.6498829039812647\n",
      "Done\n",
      "Evaluating for topk = 25\n",
      "Starting Inference\n",
      "500/6832 Done | 0/6832 Failed\n",
      "1000/6832 Done | 0/6832 Failed\n",
      "1500/6832 Done | 0/6832 Failed\n",
      "2000/6832 Done | 0/6832 Failed\n",
      "2500/6832 Done | 0/6832 Failed\n",
      "3000/6832 Done | 0/6832 Failed\n",
      "3500/6832 Done | 0/6832 Failed\n",
      "4000/6832 Done | 0/6832 Failed\n",
      "4500/6832 Done | 0/6832 Failed\n",
      "5000/6832 Done | 0/6832 Failed\n",
      "5500/6832 Done | 0/6832 Failed\n",
      "6000/6832 Done | 0/6832 Failed\n",
      "6500/6832 Done | 0/6832 Failed\n",
      "Removing Failed Indices\n",
      "mse@k=25 : 0.8666569086651054, mae@k=25 : 0.643003512880562\n",
      "Done\n"
     ]
    }
   ],
   "source": [
    "KRange = [5, 10, 15, 20, 25]\n",
    "mse_list = []\n",
    "mae_list = []\n",
    "\n",
    "for topk in KRange:\n",
    "  print(f\"Evaluating for topk = {topk}\")\n",
    "  mse, mae = evaluate_engine(test_df = test_df_filtered,\n",
    "                             topk = topk,\n",
    "                             engine = ub_engine\n",
    "                             )\n",
    "  mse_list.append(mse)\n",
    "  mae_list.append(mae)"
   ]
  },
  {
   "cell_type": "code",
   "execution_count": 18,
   "id": "b028d38e-0cce-4d80-9b99-724ea1ee5701",
   "metadata": {},
   "outputs": [
    {
     "data": {
      "text/plain": [
       "Text(0.5, 1.0, 'MSE vs TopK')"
      ]
     },
     "execution_count": 18,
     "metadata": {},
     "output_type": "execute_result"
    },
    {
     "data": {
      "image/png": "[encoded data removed]",
      "text/plain": [
       "<Figure size 640x480 with 1 Axes>"
      ]
     },
     "metadata": {},
     "output_type": "display_data"
    }
   ],
   "source": [
    "# Plotting MSE vs Topk Curve\n",
    "plt.plot(KRange, mse_list, color='r')\n",
    "plt.xlabel('topk')\n",
    "plt.ylabel('mse')\n",
    "plt.title('MSE vs TopK')"
   ]
  },
  {
   "cell_type": "code",
   "execution_count": 19,
   "id": "08b52798-6636-4e84-87c2-f53793b3c35f",
   "metadata": {},
   "outputs": [
    {
     "data": {
      "text/plain": [
       "Text(0.5, 1.0, 'MAE vs TopK')"
      ]
     },
     "execution_count": 19,
     "metadata": {},
     "output_type": "execute_result"
    },
    {
     "data": {
      "image/png": "[encoded data removed]",
      "text/plain": [
       "<Figure size 640x480 with 1 Axes>"
      ]
     },
     "metadata": {},
     "output_type": "display_data"
    }
   ],
   "source": [
    "# Plotting MAE vs TopK Curve\n",
    "plt.plot(KRange, mae_list, color='g')\n",
    "plt.xlabel('topk')\n",
    "plt.ylabel('mae')\n",
    "plt.title('MAE vs TopK')"
   ]
  },
  {
   "cell_type": "markdown",
   "id": "5644eed3-6010-4c74-8f35-53877885fad4",
   "metadata": {},
   "source": [
    "# Item Based Engine"
   ]
  },
  {
   "cell_type": "code",
   "execution_count": 20,
   "id": "b3caf571-466b-4b5a-bcb5-466111e8e88b",
   "metadata": {},
   "outputs": [],
   "source": [
    "class ItemBasedEngine:\n",
    "  def __init__(self, sim_matrix, idx2user, idx2item, train_df):\n",
    "    \"\"\"\n",
    "    params:\n",
    "      sim_matrix : item-item similarity matrix\n",
    "      idx2user : mapping of index to user_id\n",
    "      idx2item : mapping of index to item_id\n",
    "      train_df : training dataframe\n",
    "    \"\"\"\n",
    "    self.sim_matrix = sim_matrix\n",
    "    self.idx2user = idx2user\n",
    "    self.idx2item = idx2item\n",
    "    self.train_df = train_df\n",
    "\n",
    "    self.user2idx = {v:k for k,v in self.idx2user.items()}\n",
    "    self.item2idx = {v:k for k,v in self.idx2item.items()}\n",
    "\n",
    "  def predict(self, user_id, item_id, topk):\n",
    "    \"\"\"\n",
    "    Given a user_id,item_id find similar item that user has alreay used\n",
    "    \"\"\"\n",
    "    # Finding Items given user has rated\n",
    "    items_user_has_rated = self.train_df[self.train_df.user_id == user_id].business_id.unique()\n",
    "\n",
    "    item_index = self.item2idx[item_id]\n",
    "    sim_scores = self.sim_matrix[item_index]\n",
    "\n",
    "    sim_scores = pd.Series(sim_scores)\n",
    "    sim_scores.index = self.item2idx.keys()\n",
    "\n",
    "    # Finding similarity of the given item with the items that user has rated\n",
    "    sorted_sim_scores = sim_scores[items_user_has_rated].sort_values(ascending=False)\n",
    "\n",
    "    topk_sims = softmax(sorted_sim_scores[:topk])\n",
    "    topk_items = sorted_sim_scores[:topk].index\n",
    "\n",
    "    filter_df = self.train_df[(self.train_df.user_id == user_id) & (self.train_df.business_id.isin(topk_items))]\n",
    "    topk_ratings = [item_df['user_rating'].mean() for item_id, item_df in filter_df.groupby('business_id')]\n",
    "\n",
    "    predicted_rating = sum([ topk_sims[idx]*topk_ratings[idx] for idx in range(len(topk_ratings))])\n",
    "    assert predicted_rating >= 0.9 and predicted_rating <= 5.2, f\"Predicted Rating : {predicted_rating} out of bounds\"\n",
    "\n",
    "    return predicted_rating"
   ]
  },
  {
   "cell_type": "code",
   "execution_count": 21,
   "id": "f43019bf-198b-410a-9e4c-306d75371f32",
   "metadata": {},
   "outputs": [],
   "source": [
    "# Initializinng Item Similarity Matrix\n",
    "item_sim_matrix = cosine_similarity(item_matrix)\n",
    "np.fill_diagonal(item_sim_matrix, 0)\n",
    "\n",
    "\n",
    "ib_engine = ItemBasedEngine(sim_matrix=item_sim_matrix,\n",
    "                            idx2user = idx2user,\n",
    "                            idx2item = idx2item,\n",
    "                            train_df = train_df\n",
    "                            )"
   ]
  },
  {
   "cell_type": "code",
   "execution_count": 22,
   "id": "b09af083-7f3e-4ef0-b059-fba4e8fb60f1",
   "metadata": {},
   "outputs": [
    {
     "name": "stdout",
     "output_type": "stream",
     "text": [
      "Evaluating for topk = 5\n",
      "Starting Inference\n",
      "500/6832 Done | 0/6832 Failed\n",
      "1000/6832 Done | 0/6832 Failed\n",
      "1500/6832 Done | 0/6832 Failed\n",
      "2000/6832 Done | 0/6832 Failed\n",
      "2500/6832 Done | 0/6832 Failed\n",
      "3000/6832 Done | 0/6832 Failed\n",
      "3500/6832 Done | 0/6832 Failed\n",
      "4000/6832 Done | 0/6832 Failed\n",
      "4500/6832 Done | 0/6832 Failed\n",
      "5000/6832 Done | 0/6832 Failed\n",
      "5500/6832 Done | 0/6832 Failed\n",
      "6000/6832 Done | 0/6832 Failed\n",
      "6500/6832 Done | 0/6832 Failed\n",
      "Removing Failed Indices\n",
      "mse@k=5 : 0.9296879954564037, mae@k=5 : 0.7450432345606202\n",
      "Done\n",
      "Evaluating for topk = 10\n",
      "Starting Inference\n",
      "500/6832 Done | 0/6832 Failed\n",
      "1000/6832 Done | 0/6832 Failed\n",
      "1500/6832 Done | 0/6832 Failed\n",
      "2000/6832 Done | 0/6832 Failed\n",
      "2500/6832 Done | 0/6832 Failed\n",
      "3000/6832 Done | 0/6832 Failed\n",
      "3500/6832 Done | 0/6832 Failed\n",
      "4000/6832 Done | 0/6832 Failed\n",
      "4500/6832 Done | 0/6832 Failed\n",
      "5000/6832 Done | 0/6832 Failed\n",
      "5500/6832 Done | 0/6832 Failed\n",
      "6000/6832 Done | 0/6832 Failed\n",
      "6500/6832 Done | 0/6832 Failed\n",
      "Removing Failed Indices\n",
      "mse@k=10 : 0.8683450593836792, mae@k=10 : 0.7283057428279128\n",
      "Done\n",
      "Evaluating for topk = 15\n",
      "Starting Inference\n",
      "500/6832 Done | 0/6832 Failed\n",
      "1000/6832 Done | 0/6832 Failed\n",
      "1500/6832 Done | 0/6832 Failed\n",
      "2000/6832 Done | 0/6832 Failed\n",
      "2500/6832 Done | 0/6832 Failed\n",
      "3000/6832 Done | 0/6832 Failed\n",
      "3500/6832 Done | 0/6832 Failed\n",
      "4000/6832 Done | 0/6832 Failed\n",
      "4500/6832 Done | 0/6832 Failed\n",
      "5000/6832 Done | 0/6832 Failed\n",
      "5500/6832 Done | 0/6832 Failed\n",
      "6000/6832 Done | 0/6832 Failed\n",
      "6500/6832 Done | 0/6832 Failed\n",
      "Removing Failed Indices\n",
      "mse@k=15 : 0.8629114810458359, mae@k=15 : 0.7268060444758054\n",
      "Done\n",
      "Evaluating for topk = 20\n",
      "Starting Inference\n",
      "500/6832 Done | 0/6832 Failed\n",
      "1000/6832 Done | 0/6832 Failed\n",
      "1500/6832 Done | 0/6832 Failed\n",
      "2000/6832 Done | 0/6832 Failed\n",
      "2500/6832 Done | 0/6832 Failed\n",
      "3000/6832 Done | 0/6832 Failed\n",
      "3500/6832 Done | 0/6832 Failed\n",
      "4000/6832 Done | 0/6832 Failed\n",
      "4500/6832 Done | 0/6832 Failed\n",
      "5000/6832 Done | 0/6832 Failed\n",
      "5500/6832 Done | 0/6832 Failed\n",
      "6000/6832 Done | 0/6832 Failed\n",
      "6500/6832 Done | 0/6832 Failed\n",
      "Removing Failed Indices\n",
      "mse@k=20 : 0.8651279212045349, mae@k=20 : 0.7281989082099753\n",
      "Done\n",
      "Evaluating for topk = 25\n",
      "Starting Inference\n",
      "500/6832 Done | 0/6832 Failed\n",
      "1000/6832 Done | 0/6832 Failed\n",
      "1500/6832 Done | 0/6832 Failed\n",
      "2000/6832 Done | 0/6832 Failed\n",
      "2500/6832 Done | 0/6832 Failed\n",
      "3000/6832 Done | 0/6832 Failed\n",
      "3500/6832 Done | 0/6832 Failed\n",
      "4000/6832 Done | 0/6832 Failed\n",
      "4500/6832 Done | 0/6832 Failed\n",
      "5000/6832 Done | 0/6832 Failed\n",
      "5500/6832 Done | 0/6832 Failed\n",
      "6000/6832 Done | 0/6832 Failed\n",
      "6500/6832 Done | 0/6832 Failed\n",
      "Removing Failed Indices\n",
      "mse@k=25 : 0.8609924249159931, mae@k=25 : 0.7272883576219835\n",
      "Done\n"
     ]
    }
   ],
   "source": [
    "KRange = [5, 10, 15, 20, 25]\n",
    "mse_list = []\n",
    "mae_list = []\n",
    "\n",
    "for topk in KRange:\n",
    "  print(f\"Evaluating for topk = {topk}\")\n",
    "  mse, mae = evaluate_engine(test_df = test_df_filtered,\n",
    "                             topk = topk,\n",
    "                             engine = ib_engine\n",
    "                             )\n",
    "  mse_list.append(mse)\n",
    "  mae_list.append(mae)"
   ]
  },
  {
   "cell_type": "code",
   "execution_count": 23,
   "id": "075e010b-ff7a-4b52-bfa5-190321befb63",
   "metadata": {},
   "outputs": [
    {
     "data": {
      "text/plain": [
       "Text(0.5, 1.0, 'MSE vs TopK')"
      ]
     },
     "execution_count": 23,
     "metadata": {},
     "output_type": "execute_result"
    },
    {
     "data": {
      "image/png": "[encoded data removed]",
      "text/plain": [
       "<Figure size 640x480 with 1 Axes>"
      ]
     },
     "metadata": {},
     "output_type": "display_data"
    }
   ],
   "source": [
    "# Plotting MSE vs Topk Curve\n",
    "plt.plot(KRange, mse_list, color='r')\n",
    "plt.xlabel('topk')\n",
    "plt.ylabel('mse')\n",
    "plt.title('MSE vs TopK')"
   ]
  },
  {
   "cell_type": "code",
   "execution_count": 24,
   "id": "726fe9c7-22df-4e87-88a2-8e92359c1784",
   "metadata": {},
   "outputs": [
    {
     "data": {
      "text/plain": [
       "Text(0.5, 1.0, 'MAE vs TopK')"
      ]
     },
     "execution_count": 24,
     "metadata": {},
     "output_type": "execute_result"
    },
    {
     "data": {
      "image/png": "[encoded data removed]",
      "text/plain": [
       "<Figure size 640x480 with 1 Axes>"
      ]
     },
     "metadata": {},
     "output_type": "display_data"
    }
   ],
   "source": [
    "# Plotting MAE vs TopK Curve\n",
    "plt.plot(KRange, mae_list, color='g')\n",
    "plt.xlabel('topk')\n",
    "plt.ylabel('mae')\n",
    "plt.title('MAE vs TopK')"
   ]
  },
  {
   "cell_type": "code",
   "execution_count": null,
   "id": "418ff536-bb19-44b4-ad61-499ad49a872c",
   "metadata": {},
   "outputs": [],
   "source": []
  }
 ],
 "metadata": {
  "kernelspec": {
   "display_name": "python_env",
   "language": "python",
   "name": "python_env"
  },
  "language_info": {
   "codemirror_mode": {
    "name": "ipython",
    "version": 3
   },
   "file_extension": ".py",
   "mimetype": "text/x-python",
   "name": "python",
   "nbconvert_exporter": "python",
   "pygments_lexer": "ipython3",
   "version": "3.11.5"
  }
 },
 "nbformat": 4,
 "nbformat_minor": 5
}
