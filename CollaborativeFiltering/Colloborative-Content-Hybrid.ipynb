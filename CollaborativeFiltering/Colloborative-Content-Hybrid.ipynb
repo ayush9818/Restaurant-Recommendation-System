{
 "cells": [
  {
   "cell_type": "code",
   "execution_count": 9,
   "id": "78a49450-a4fd-437e-aaa9-7dca6e6a27a0",
   "metadata": {},
   "outputs": [],
   "source": [
    "import pandas as pd\n",
    "import os\n",
    "import json\n",
    "import re\n",
    "import scipy as sp\n",
    "import pickle\n",
    "import numpy as np\n",
    "from sklearn.metrics import mean_squared_error\n",
    "import surprise"
   ]
  },
  {
   "cell_type": "markdown",
   "id": "3e54736f-a4a3-4c49-99d3-127491bc76cd",
   "metadata": {},
   "source": [
    "# MAIN IDEA\n",
    "\n",
    "- The notebook is targetted to develop a hybrid Collaborative Filter using Item-Based and User-Based CF. The approach that we have taken is the weighted average of the two systems. The weights are chosen such that they result in the lowest MSE"
   ]
  },
  {
   "cell_type": "code",
   "execution_count": 10,
   "id": "c097eaa7-a6a3-4d3d-9554-0ea5b9d0a2f7",
   "metadata": {},
   "outputs": [
    {
     "data": {
      "text/plain": [
       "['test_data.json',\n",
       " 'user_profiles_bert.pkl',\n",
       " '.DS_Store',\n",
       " 'collaborative_filters',\n",
       " 'dataset',\n",
       " 'train_df_with_cat.json',\n",
       " 'topK_categories.json',\n",
       " 'user_profiles.pkl',\n",
       " 'item_profiles_bert.pkl',\n",
       " 'test_df_filtered.json',\n",
       " '.ipynb_checkpoints',\n",
       " 'train_data.json',\n",
       " 'archive.zip',\n",
       " 'item_profiles.pkl']"
      ]
     },
     "execution_count": 10,
     "metadata": {},
     "output_type": "execute_result"
    }
   ],
   "source": [
    "data_dir = '/Users/dare_devil/Documents/MLDS_2024/Quarter2/DataMining/Project/data'\n",
    "os.listdir(data_dir)"
   ]
  },
  {
   "cell_type": "code",
   "execution_count": 11,
   "id": "0d876c04-b895-4cf2-b375-d25fa8f33f1f",
   "metadata": {},
   "outputs": [],
   "source": [
    "# Training and Testing filenames\n",
    "train_fname = 'train_df_with_cat.json'\n",
    "test_fname = 'test_df_filtered.json'\n",
    "\n",
    "\n",
    "# Collaborative filters filenames\n",
    "cf_ub_fname = 'collaborative_filters/user_based.pkl'\n",
    "cf_ib_fname = 'collaborative_filters/item_based.pkl'"
   ]
  },
  {
   "cell_type": "code",
   "execution_count": 12,
   "id": "6df64d82-55cf-4155-b2d4-f9b86fdbba5a",
   "metadata": {},
   "outputs": [
    {
     "name": "stdout",
     "output_type": "stream",
     "text": [
      "Test Size : 6832\n",
      "Training and Test Data Loaded\n",
      "Collaborative Filters Loaded\n"
     ]
    }
   ],
   "source": [
    "# Loading train and test data \n",
    "#train_df = pd.read_json(os.path.join(data_dir, train_fname))\n",
    "test_df = pd.read_json(os.path.join(data_dir, test_fname))\n",
    "print(f\"Test Size : {test_df.shape[0]}\")\n",
    "print(\"Training and Test Data Loaded\")\n",
    "\n",
    "# Loading Collaborative Filters\n",
    "cf_ub = pickle.load(open(os.path.join(data_dir, cf_ub_fname), 'rb'))\n",
    "cf_ib = pickle.load(open(os.path.join(data_dir, cf_ib_fname), 'rb'))\n",
    "print(\"Collaborative Filters Loaded\")"
   ]
  },
  {
   "cell_type": "code",
   "execution_count": 18,
   "id": "9404eac8-84d6-4aa7-8e13-8c143a0d30b4",
   "metadata": {},
   "outputs": [
    {
     "name": "stdout",
     "output_type": "stream",
     "text": [
      "User Weight : 0.0, Item Weight : 1.0\n",
      "MSE : 0.3624400639756419\n",
      "Updating Best User Weight : 0.0\n",
      "User Weight : 0.05, Item Weight : 0.95\n",
      "MSE : 0.3624400639756419\n",
      "User Weight : 0.1, Item Weight : 0.9\n",
      "MSE : 0.3624400639756418\n",
      "Updating Best User Weight : 0.1\n",
      "User Weight : 0.15, Item Weight : 0.85\n",
      "MSE : 0.3624400639756418\n",
      "User Weight : 0.2, Item Weight : 0.8\n",
      "MSE : 0.3624400639756419\n",
      "User Weight : 0.25, Item Weight : 0.75\n",
      "MSE : 0.3624400639756419\n",
      "User Weight : 0.3, Item Weight : 0.7\n",
      "MSE : 0.3624400639756419\n",
      "User Weight : 0.35, Item Weight : 0.65\n",
      "MSE : 0.3624400639756418\n",
      "User Weight : 0.4, Item Weight : 0.6\n",
      "MSE : 0.3624400639756419\n",
      "User Weight : 0.45, Item Weight : 0.55\n",
      "MSE : 0.3624400639756419\n",
      "User Weight : 0.5, Item Weight : 0.5\n",
      "MSE : 0.3624400639756419\n",
      "User Weight : 0.55, Item Weight : 0.45\n",
      "MSE : 0.3624400639756419\n",
      "User Weight : 0.6, Item Weight : 0.4\n",
      "MSE : 0.3624400639756419\n",
      "User Weight : 0.65, Item Weight : 0.35\n",
      "MSE : 0.3624400639756418\n",
      "User Weight : 0.7, Item Weight : 0.3\n",
      "MSE : 0.3624400639756419\n",
      "User Weight : 0.75, Item Weight : 0.25\n",
      "MSE : 0.3624400639756419\n",
      "User Weight : 0.8, Item Weight : 0.2\n",
      "MSE : 0.3624400639756419\n",
      "User Weight : 0.85, Item Weight : 0.15\n",
      "MSE : 0.3624400639756418\n",
      "User Weight : 0.9, Item Weight : 0.1\n",
      "MSE : 0.3624400639756418\n",
      "User Weight : 0.95, Item Weight : 0.05\n",
      "MSE : 0.3624400639756419\n"
     ]
    }
   ],
   "source": [
    "# Fine Tuning with Different User Weight to optimize for MSE\n",
    "user_wt_list = np.arange(0, 1, 0.05)\n",
    "\n",
    "best_mse = np.inf\n",
    "best_user_wt = -1\n",
    "\n",
    "\n",
    "y_true = test_df['user_rating'].tolist()\n",
    "\n",
    "for user_wt in user_wt_list:\n",
    "    user_wt = round(user_wt, 2)\n",
    "    item_wt = round(1 - user_wt,2)\n",
    "    print(f\"User Weight : {user_wt}, Item Weight : {item_wt}\")\n",
    "    y_pred = []\n",
    "    for idx,row in test_df.iterrows():\n",
    "        user_id = row['user_id']\n",
    "        item_id = row['business_id']\n",
    "\n",
    "        ub_rating = cf_ub.predict(user_id, item_id).est\n",
    "        ib_rating = cf_ub.predict(user_id, item_id).est\n",
    "\n",
    "        pred_rating = (user_wt * ub_rating) + (item_wt *  ib_rating)\n",
    "        y_pred.append(pred_rating)\n",
    "\n",
    "    mse = mean_squared_error(y_true, y_pred)\n",
    "    print(f\"MSE : {mse}\")\n",
    "    if mse < best_mse:\n",
    "        best_mse = mse \n",
    "        best_user_wt = user_wt \n",
    "        print(f\"Updating Best User Weight : {best_user_wt}\")"
   ]
  },
  {
   "cell_type": "code",
   "execution_count": 19,
   "id": "9f76ba8b-b643-4c29-9245-7fbbee202c8f",
   "metadata": {},
   "outputs": [
    {
     "name": "stdout",
     "output_type": "stream",
     "text": [
      "Best MSE : 0.3624400639756418\n",
      "Best User Weight : 0.1\n"
     ]
    }
   ],
   "source": [
    "print(f\"Best MSE : {best_mse}\")\n",
    "print(f\"Best User Weight : {best_user_wt}\")"
   ]
  },
  {
   "cell_type": "code",
   "execution_count": null,
   "id": "d6511ec3-ffdf-45e9-8bf4-e743ec05e724",
   "metadata": {},
   "outputs": [],
   "source": []
  }
 ],
 "metadata": {
  "kernelspec": {
   "display_name": "python_env",
   "language": "python",
   "name": "python_env"
  },
  "language_info": {
   "codemirror_mode": {
    "name": "ipython",
    "version": 3
   },
   "file_extension": ".py",
   "mimetype": "text/x-python",
   "name": "python",
   "nbconvert_exporter": "python",
   "pygments_lexer": "ipython3",
   "version": "3.11.5"
  }
 },
 "nbformat": 4,
 "nbformat_minor": 5
}
